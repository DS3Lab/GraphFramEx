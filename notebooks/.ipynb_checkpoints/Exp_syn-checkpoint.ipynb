{
 "cells": [
  {
   "cell_type": "code",
   "execution_count": 1,
   "id": "94d69b61",
   "metadata": {},
   "outputs": [],
   "source": [
    "import json\n",
    "import os, sys\n",
    "sys.path.insert(0, '/cluster/home/kamara/Explain')\n",
    "sys.path.insert(0, '/cluster/home/kamara/Explain/code')\n",
    "import random\n",
    "\n",
    "import numpy as np\n",
    "import torch\n",
    "import seaborn as sns\n",
    "import matplotlib.pyplot as plt\n",
    "\n",
    "\n",
    "import code\n",
    "from dataset.gen_mutag import build_mutag\n",
    "from dataset.gen_syn import build_syndata\n",
    "from dataset.mutag_utils import data_to_graph\n",
    "from evaluate.accuracy import eval_accuracy\n",
    "from evaluate.fidelity import eval_fidelity, eval_related_pred_gc, eval_related_pred_nc\n",
    "from evaluate.mask_utils import clean_masks, get_size, get_sparsity, normalize_all_masks, transform_mask\n",
    "from explainer.genmask import compute_edge_masks_gc, compute_edge_masks_nc\n",
    "from gnn.eval import gnn_scores_gc, gnn_scores_nc\n",
    "from gnn.model import GcnEncoderGraph, GcnEncoderNode\n",
    "from gnn.train import train_graph_classification, train_node_classification\n",
    "from utils.gen_utils import get_test_graphs, get_test_nodes\n",
    "from utils.graph_utils import get_edge_index_set\n",
    "from utils.io_utils import check_dir, create_data_filename, create_model_filename, load_ckpt, save_checkpoint\n",
    "from utils.parser_utils import arg_parse, get_data_args\n"
   ]
  },
  {
   "cell_type": "code",
   "execution_count": 2,
   "id": "0b4cff39",
   "metadata": {},
   "outputs": [
    {
     "name": "stdout",
     "output_type": "stream",
     "text": [
      "module://matplotlib_inline.backend_inline\n"
     ]
    }
   ],
   "source": [
    "%matplotlib inline\n",
    "import matplotlib \n",
    "import matplotlib.pyplot as plt\n",
    "print(plt.get_backend())"
   ]
  },
  {
   "cell_type": "code",
   "execution_count": 3,
   "id": "1800da47",
   "metadata": {},
   "outputs": [],
   "source": [
    "from torch.optim.lr_scheduler import StepLR\n",
    "\n",
    "args = {\"dataset\": \"syn1\", \"input_dim\":1, \"val_ratio\": 0.15, \"test_ratio\": 0.1, \"train_ratio\": 0.8, 'method':'base', 'seed': 10,\n",
    "       \"threshold\": -1, \"sparsity\": -1, \"topk\":-1, \"hidden_dim\":20, \"output_dim\":20, \"lr\":0.001, \"weight_decay\":0.005, \"true_label\":\"True\",\n",
    "       \"num_basis\":300, \"num_shapes\":150, \"opt\":\"adam\", \"explainer_name\":\"gnnexplainer\", \"explain_graph\":\"False\"}\n",
    "args['num_top_edges']=6\n",
    "args['num_test'] = 10\n",
    "args['num_gc_layers']=3\n",
    "args['num_epochs']=1000\n",
    "args[\"feature_type\"] = \"default\"\n",
    "args[\"batch_size\"] = 20\n",
    "args['num_workers'] = 1\n",
    "args['clip']=2.0\n",
    "args['num_classes']=4\n",
    "args['edge_ent'] = 1\n",
    "args['edge_size'] = 1000\n",
    "\n",
    "class AttributeDict(dict):\n",
    "    __slots__ = () \n",
    "    __getattr__ = dict.__getitem__\n",
    "    __setattr__ = dict.__setitem__\n",
    "    \n",
    "    \n",
    "args = AttributeDict(args)"
   ]
  },
  {
   "cell_type": "code",
   "execution_count": 4,
   "id": "4431c271",
   "metadata": {},
   "outputs": [
    {
     "name": "stdout",
     "output_type": "stream",
     "text": [
      "10\n"
     ]
    },
    {
     "name": "stderr",
     "output_type": "stream",
     "text": [
      "Explain node 368:  80%|█████████████████████████████████████████████████████████████████████████████████████████████████████████████████████████████████████████████████████████████████████████████████████████▎                                              | 799/1000 [00:01<00:00, 442.19it/s]\n",
      "Explain node 419:  80%|█████████████████████████████████████████████████████████████████████████████████████████████████████████████████████████████████████████████████████████████████████████████████████████▎                                              | 799/1000 [00:02<00:00, 297.89it/s]\n",
      "Explain node 557:  80%|█████████████████████████████████████████████████████████████████████████████████████████████████████████████████████████████████████████████████████████████████████████████████████████▎                                              | 799/1000 [00:02<00:00, 390.75it/s]\n",
      "Explain node 350:  80%|█████████████████████████████████████████████████████████████████████████████████████████████████████████████████████████████████████████████████████████████████████████████████████████▎                                              | 799/1000 [00:02<00:00, 280.14it/s]\n",
      "Explain node 626:  80%|█████████████████████████████████████████████████████████████████████████████████████████████████████████████████████████████████████████████████████████████████████████████████████████▎                                              | 799/1000 [00:01<00:00, 443.58it/s]\n",
      "Explain node 627:  80%|█████████████████████████████████████████████████████████████████████████████████████████████████████████████████████████████████████████████████████████████████████████████████████████▎                                              | 799/1000 [00:01<00:00, 460.11it/s]\n",
      "Explain node 624:  80%|█████████████████████████████████████████████████████████████████████████████████████████████████████████████████████████████████████████████████████████████████████████████████████████▎                                              | 799/1000 [00:01<00:00, 441.07it/s]\n",
      "Explain node 636:  80%|█████████████████████████████████████████████████████████████████████████████████████████████████████████████████████████████████████████████████████████████████████████████████████████▎                                              | 799/1000 [00:01<00:00, 439.76it/s]\n",
      "Explain node 650:  80%|█████████████████████████████████████████████████████████████████████████████████████████████████████████████████████████████████████████████████████████████████████████████████████████▎                                              | 799/1000 [00:02<00:00, 326.39it/s]\n",
      "Explain node 431:  80%|█████████████████████████████████████████████████████████████████████████████████████████████████████████████████████████████████████████████████████████████████████████████████████████▎                                              | 799/1000 [00:01<00:00, 433.59it/s]\n"
     ]
    },
    {
     "name": "stdout",
     "output_type": "stream",
     "text": [
      "241.0\n",
      "__infos:{\"dataset\": \"syn1\", \"explainer\": \"gnnexplainer\", \"number_of_edges\": 4110, \"mask_sparsity_init\": 0.9413625304136254, \"non_zero_values_init\": 241.0, \"sparsity\": -1, \"threshold\": -1, \"topk\": -1, \"num_test\": 10, \"groundtruth target\": \"True\", \"time\": 2.09}\n",
      "__accuracy_top:{\"recall\": 0.31666666666666665, \"precision\": 0.36, \"f1_score\": 0.3363636363636363}\n",
      "__accuracy:{\"recall\": 1.0, \"precision\": 0.37685474280959175, \"f1_score\": 0.48788556768968805}\n",
      "__fidelity:{\"fidelity_acc+\": 0.7, \"fidelity_acc-\": 0.0, \"fidelity_prob+\": 0.655271053314209, \"fidelity_prob-\": 0.0, \"mask_sparsity\": 0.9413625597953796, \"expl_edges\": 241.0}\n"
     ]
    }
   ],
   "source": [
    "from main import main_syn\n",
    "\n",
    "main_syn(args)"
   ]
  },
  {
   "cell_type": "code",
   "execution_count": 4,
   "id": "f5754efa",
   "metadata": {},
   "outputs": [
    {
     "ename": "NameError",
     "evalue": "name 'main_syn' is not defined",
     "output_type": "error",
     "traceback": [
      "\u001b[0;31m---------------------------------------------------------------------------\u001b[0m",
      "\u001b[0;31mNameError\u001b[0m                                 Traceback (most recent call last)",
      "\u001b[0;32m/tmp/ipykernel_31018/3182151081.py\u001b[0m in \u001b[0;36m<module>\u001b[0;34m\u001b[0m\n\u001b[0;32m----> 1\u001b[0;31m \u001b[0mmain_syn\u001b[0m\u001b[0;34m(\u001b[0m\u001b[0margs\u001b[0m\u001b[0;34m)\u001b[0m\u001b[0;34m\u001b[0m\u001b[0;34m\u001b[0m\u001b[0m\n\u001b[0m",
      "\u001b[0;31mNameError\u001b[0m: name 'main_syn' is not defined"
     ]
    }
   ],
   "source": [
    "main_syn(args)"
   ]
  },
  {
   "cell_type": "code",
   "execution_count": 8,
   "id": "8c400048",
   "metadata": {},
   "outputs": [],
   "source": [
    "def plot_mask_density(edge_masks, args):\n",
    "    rank_masks = [np.sort(edge_mask) for edge_mask in edge_masks]\n",
    "    avg_mask = np.mean(rank_masks, axis=0)\n",
    "\n",
    "    matplotlib.style.use(\"seaborn\")\n",
    "    plt.switch_backend(\"agg\")\n",
    "    fig, ax = plt.subplots()\n",
    "    fig.set_size_inches(10, 5)\n",
    "    sns.histplot(avg_mask, kde=True, ax=ax)\n",
    "    plt.xlim(0,1)\n",
    "    plt.title(f\"Density of averaged edge mask for {args.explainer_name}\")\n",
    "    plt.xlabel(\"edge importance\")\n",
    "    #plt.savefig(utils.io_utils.gen_mask_density_plt_name(args), dpi=600)\n",
    "    plt.show()\n",
    "    #plt.close()\n",
    "    matplotlib.style.use(\"default\")\n",
    "    "
   ]
  },
  {
   "cell_type": "code",
   "execution_count": 7,
   "id": "31c5d756",
   "metadata": {},
   "outputs": [],
   "source": [
    "matplotlib.style.use(\"seaborn\")\n",
    "plt.switch_backend(\"agg\")\n",
    "fig, ax = plt.subplots()\n",
    "fig.set_size_inches(10, 5)\n",
    "\n",
    "for edge_mask in edge_masks:\n",
    "    ax2 = ax.twinx()\n",
    "    sns.histplot(edge_mask, kde=True, ax=ax2)\n",
    "    \n",
    "plt.xlim(0,1)\n",
    "plt.title(f\"Density of averaged edge mask for {args.explainer_name}\")\n",
    "plt.xlabel(\"edge importance\")\n",
    "#plt.savefig('fig_size_100_ent_1.png', dpi=600)\n",
    "plt.show()\n",
    "#plt.close()\n",
    "matplotlib.style.use(\"default\")"
   ]
  },
  {
   "cell_type": "code",
   "execution_count": null,
   "id": "8e01d6ea",
   "metadata": {},
   "outputs": [],
   "source": []
  }
 ],
 "metadata": {
  "kernelspec": {
   "display_name": "Python 3 (ipykernel)",
   "language": "python",
   "name": "python3"
  },
  "language_info": {
   "codemirror_mode": {
    "name": "ipython",
    "version": 3
   },
   "file_extension": ".py",
   "mimetype": "text/x-python",
   "name": "python",
   "nbconvert_exporter": "python",
   "pygments_lexer": "ipython3",
   "version": "3.8.5"
  }
 },
 "nbformat": 4,
 "nbformat_minor": 5
}
