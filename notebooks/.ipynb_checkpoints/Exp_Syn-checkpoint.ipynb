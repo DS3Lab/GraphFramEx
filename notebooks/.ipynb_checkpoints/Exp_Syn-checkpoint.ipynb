{
 "cells": [
  {
   "cell_type": "code",
   "execution_count": 12,
   "id": "94d69b61",
   "metadata": {},
   "outputs": [],
   "source": [
    "import json\n",
    "import os, sys\n",
    "sys.path.insert(0, '/cluster/home/kamara/Explain')\n",
    "sys.path.insert(0, '/cluster/home/kamara/Explain/code')\n",
    "import random\n",
    "\n",
    "import numpy as np\n",
    "import torch\n",
    "import seaborn as sns\n",
    "import matplotlib.pyplot as plt\n",
    "\n",
    "\n",
    "import code\n",
    "from dataset.gen_mutag import build_mutag\n",
    "from dataset.gen_syn import build_syndata\n",
    "from dataset.mutag_utils import data_to_graph\n",
    "from evaluate.accuracy import eval_accuracy\n",
    "from evaluate.fidelity import eval_fidelity, eval_related_pred_gc, eval_related_pred_nc\n",
    "from evaluate.mask_utils import clean_masks, get_size, get_sparsity, normalize_all_masks, transform_mask\n",
    "from explainer.genmask import compute_edge_masks_gc, compute_edge_masks_nc\n",
    "from gnn.eval import gnn_scores_gc, gnn_scores_nc\n",
    "from gnn.model import GcnEncoderGraph, GcnEncoderNode\n",
    "from gnn.train import train_graph_classification, train_node_classification\n",
    "from utils.gen_utils import get_test_graphs, get_test_nodes\n",
    "from utils.graph_utils import get_edge_index_set\n",
    "from utils.io_utils import check_dir, create_data_filename, create_model_filename, load_ckpt, save_checkpoint\n",
    "from utils.parser_utils import arg_parse, get_data_args\n"
   ]
  },
  {
   "cell_type": "code",
   "execution_count": 58,
   "id": "cf38a99f",
   "metadata": {},
   "outputs": [
    {
     "name": "stdout",
     "output_type": "stream",
     "text": [
      "module://matplotlib_inline.backend_inline\n"
     ]
    }
   ],
   "source": [
    "%matplotlib inline\n",
    "import matplotlib \n",
    "import matplotlib.pyplot as plt\n",
    "print(plt.get_backend())"
   ]
  },
  {
   "cell_type": "code",
   "execution_count": 36,
   "id": "590b72b9",
   "metadata": {},
   "outputs": [],
   "source": [
    "def main_syn(args):\n",
    "    random.seed(args.seed)\n",
    "\n",
    "    device = torch.device(\"cuda\" if torch.cuda.is_available() else \"cpu\")\n",
    "\n",
    "    ### Generate, Save, Load data \n",
    "    data = build_syndata(args)\n",
    "\n",
    "    ### Create, Train, Save, Load GNN model ###\n",
    "    model = GcnEncoderNode(\n",
    "            args.input_dim,\n",
    "            args.hidden_dim,\n",
    "            args.output_dim,\n",
    "            args.num_classes,\n",
    "            args.num_gc_layers,\n",
    "            args=args,\n",
    "            device=device,\n",
    "        )\n",
    "    train_node_classification(model, data, device, args)\n",
    "    model.eval()\n",
    "    results_train, results_test = gnn_scores_nc(model, data)\n",
    "    model.to(device)\n",
    "    print(\"__gnn_train_scores: \" + json.dumps(results_train))\n",
    "    print(\"__gnn_test_scores: \" + json.dumps(results_test))\n",
    "\n",
    "    ### Explain ###\n",
    "    list_test_nodes = get_test_nodes(data, model, args)\n",
    "    edge_masks, Time = compute_edge_masks_nc(list_test_nodes, model, data, device, args)\n",
    "\n",
    "    ### Mask transformation ###\n",
    "    # Replace Nan by 0, infinite by 0 and all value > 10e2 by 10e2\n",
    "    edge_masks = [edge_mask.astype(\"float\") for edge_mask in edge_masks]\n",
    "    edge_masks = clean_masks(edge_masks)\n",
    "\n",
    "    # Normalize edge_masks to have value from 0 to 1\n",
    "    edge_masks = normalize_all_masks(edge_masks)\n",
    "    plot_mask_density(edge_masks, args)\n",
    "    \n",
    "    infos = {\n",
    "        \"dataset\": args.dataset,\n",
    "        \"explainer\": args.explainer_name,\n",
    "        \"number_of_edges\": data.edge_index.size(1),\n",
    "        \"mask_sparsity_init\": get_sparsity(edge_masks),\n",
    "        \"non_zero_values_init\": get_size(edge_masks),\n",
    "        \"sparsity\": args.sparsity,\n",
    "        \"threshold\": args.threshold,\n",
    "        \"topk\": args.topk,\n",
    "        \"num_test\": args.num_test,\n",
    "        \"groundtruth target\": args.true_label,\n",
    "        \"time\": float(format(np.mean(Time), \".4f\")),\n",
    "    }\n",
    "    print(\"__infos:\" + json.dumps(infos))\n",
    "\n",
    "    ### Accuracy Top ###\n",
    "    accuracy_top = eval_accuracy(data, edge_masks, list_test_nodes, args, top_acc=True)\n",
    "    print(\"__accuracy_top:\" + json.dumps(accuracy_top))\n",
    "\n",
    "    ### Mask transformation ###\n",
    "    edge_masks = transform_mask(edge_masks, args)\n",
    "\n",
    "    ### Accuracy ###\n",
    "    accuracy = eval_accuracy(data, edge_masks, list_test_nodes, args, top_acc=False)\n",
    "    print(\"__accuracy:\" + json.dumps(accuracy))\n",
    "\n",
    "    ### Fidelity ###\n",
    "    related_preds = eval_related_pred_nc(model, data, edge_masks, list_test_nodes, device)\n",
    "    fidelity = eval_fidelity(related_preds)\n",
    "    print(\"__fidelity:\" + json.dumps(fidelity))\n",
    "\n",
    "    return edge_masks\n",
    "\n"
   ]
  },
  {
   "cell_type": "code",
   "execution_count": 37,
   "id": "d7d62154",
   "metadata": {},
   "outputs": [],
   "source": [
    "import networkx as nx\n",
    "import numpy as np\n",
    "import torch\n",
    "from captum.attr import IntegratedGradients, LayerGradCam, Saliency\n",
    "from torch_geometric.data import Data\n",
    "from torch_geometric.nn import MessagePassing\n",
    "from torch_geometric.utils import to_networkx\n",
    "\n",
    "from explainer.gnnexplainer import TargetedGNNExplainer\n",
    "from explainer.pgmexplainer import Node_Explainer\n",
    "from explainer.subgraphx import SubgraphX\n",
    "\n",
    "def explain_gnnexplainer(model, node_idx, x, edge_index, target, device, args, include_edges=None):\n",
    "    explainer = TargetedGNNExplainer(model, num_hops=args.num_gc_layers, epochs=args.num_epochs)\n",
    "    if eval(args.explain_graph):\n",
    "        edge_mask = explainer.explain_graph_with_target(x=x, edge_index=edge_index, target=target)\n",
    "    else:\n",
    "        edge_mask = explainer.explain_node_with_target(node_idx, x=x, edge_index=edge_index, target=target)\n",
    "    edge_mask = edge_mask.cpu().detach().numpy()\n",
    "    return edge_mask\n"
   ]
  },
  {
   "cell_type": "code",
   "execution_count": 38,
   "id": "1800da47",
   "metadata": {},
   "outputs": [],
   "source": [
    "from torch.optim.lr_scheduler import StepLR\n",
    "\n",
    "args = {\"dataset\": \"syn1\", \"input_dim\":1, \"val_ratio\": 0.15, \"test_ratio\": 0.1, \"train_ratio\": 0.8, 'method':'base', 'seed': 10,\n",
    "       \"threshold\": -1, \"sparsity\": -1, \"topk\":-1, \"hidden_dim\":20, \"output_dim\":20, \"lr\":0.001, \"weight_decay\":0.005, \"true_label\":\"True\",\n",
    "       \"num_basis\":300, \"num_shapes\":150, \"opt\":\"adam\", \"explainer_name\":\"gnnexplainer\", \"explain_graph\":\"False\"}\n",
    "args['num_top_edges']=6\n",
    "args['num_test'] = 10\n",
    "args['num_gc_layers']=3\n",
    "args['num_epochs']=1000\n",
    "args[\"feature_type\"] = \"default\"\n",
    "args[\"batch_size\"] = 20\n",
    "args['num_workers'] = 1\n",
    "args['clip']=2.0\n",
    "args['num_classes']=4\n",
    "\n",
    "class AttributeDict(dict):\n",
    "    __slots__ = () \n",
    "    __getattr__ = dict.__getitem__\n",
    "    __setattr__ = dict.__setitem__\n",
    "    \n",
    "    \n",
    "args = AttributeDict(args)"
   ]
  },
  {
   "cell_type": "code",
   "execution_count": 39,
   "id": "4431c271",
   "metadata": {},
   "outputs": [
    {
     "name": "stdout",
     "output_type": "stream",
     "text": [
      "__gnn_train_scores: {\"prec\": 0.9718757424566405, \"recall\": 0.9682181864363729, \"acc\": 0.9757009345794393}\n",
      "__gnn_test_scores: {\"prec\": 0.9252136752136753, \"recall\": 0.9270833333333334, \"acc\": 0.9571428571428572}\n"
     ]
    },
    {
     "name": "stderr",
     "output_type": "stream",
     "text": [
      "Explain node 458:  80%|██████████████████████████████████████████████████████████████████████████████████████████████████████████████████████████████████████████████████████████████████████████████████████████████████████▉                                                  | 799/1000 [00:01<00:00, 445.00it/s]\n",
      "Explain node 557:  80%|██████████████████████████████████████████████████████████████████████████████████████████████████████████████████████████████████████████████████████████████████████████████████████████████████████▉                                                  | 799/1000 [00:01<00:00, 458.02it/s]\n",
      "Explain node 661:  80%|██████████████████████████████████████████████████████████████████████████████████████████████████████████████████████████████████████████████████████████████████████████████████████████████████████▉                                                  | 799/1000 [00:01<00:00, 448.29it/s]\n",
      "Explain node 415:  80%|██████████████████████████████████████████████████████████████████████████████████████████████████████████████████████████████████████████████████████████████████████████████████████████████████████▉                                                  | 799/1000 [00:02<00:00, 288.47it/s]\n",
      "Explain node 391:  80%|██████████████████████████████████████████████████████████████████████████████████████████████████████████████████████████████████████████████████████████████████████████████████████████████████████▉                                                  | 799/1000 [00:01<00:00, 450.26it/s]\n",
      "Explain node 420:  80%|██████████████████████████████████████████████████████████████████████████████████████████████████████████████████████████████████████████████████████████████████████████████████████████████████████▉                                                  | 799/1000 [00:02<00:00, 328.20it/s]\n",
      "Explain node 307:  80%|██████████████████████████████████████████████████████████████████████████████████████████████████████████████████████████████████████████████████████████████████████████████████████████████████████▉                                                  | 799/1000 [00:01<00:00, 455.64it/s]\n",
      "Explain node 635:  80%|██████████████████████████████████████████████████████████████████████████████████████████████████████████████████████████████████████████████████████████████████████████████████████████████████████▉                                                  | 799/1000 [00:02<00:00, 369.89it/s]\n",
      "Explain node 371:  80%|██████████████████████████████████████████████████████████████████████████████████████████████████████████████████████████████████████████████████████████████████████████████████████████████████████▉                                                  | 799/1000 [00:01<00:00, 437.30it/s]\n",
      "Explain node 304:  80%|██████████████████████████████████████████████████████████████████████████████████████████████████████████████████████████████████████████████████████████████████████████████████████████████████████▉                                                  | 799/1000 [00:04<00:01, 198.09it/s]\n"
     ]
    },
    {
     "name": "stdout",
     "output_type": "stream",
     "text": [
      "__infos:{\"dataset\": \"syn1\", \"explainer\": \"gnnexplainer\", \"number_of_edges\": 4110, \"mask_sparsity_init\": 0.9268613138686131, \"non_zero_values_init\": 300.6, \"sparsity\": -1, \"threshold\": -1, \"topk\": -1, \"num_test\": 10, \"groundtruth target\": \"True\", \"time\": 2.213}\n",
      "__accuracy_top:{\"recall\": 0.21666666666666665, \"precision\": 0.22999999999999998, \"f1_score\": 0.22272727272727272}\n",
      "__accuracy:{\"recall\": 1.0, \"precision\": 0.274768376245848, \"f1_score\": 0.37729241577748085}\n",
      "__fidelity:{\"fidelity_acc+\": 0.7, \"fidelity_acc-\": 0.0, \"fidelity_prob+\": 0.5639810562133789, \"fidelity_prob-\": 0.0, \"mask_sparsity\": 0.9268612861633301, \"expl_edges\": 300.6}\n"
     ]
    },
    {
     "data": {
      "image/png": "[encoded data removed]",
      "text/plain": [
       "<Figure size 432x288 with 1 Axes>"
      ]
     },
     "metadata": {
      "needs_background": "light"
     },
     "output_type": "display_data"
    }
   ],
   "source": [
    "edge_masks = main_syn(args)"
   ]
  },
  {
   "cell_type": "code",
   "execution_count": 124,
   "id": "8c400048",
   "metadata": {},
   "outputs": [],
   "source": [
    "def plot_mask_density(edge_masks, args):\n",
    "    rank_masks = [np.sort(edge_mask) for edge_mask in edge_masks]\n",
    "    avg_mask = np.mean(rank_masks, axis=0)\n",
    "\n",
    "    matplotlib.style.use(\"seaborn\")\n",
    "    plt.switch_backend(\"agg\")\n",
    "    fig, ax = plt.subplots()\n",
    "    fig.set_size_inches(10, 5)\n",
    "    sns.distplot(avg_mask, kde=True, ax=ax)\n",
    "    plt.xlim(0,1)\n",
    "    plt.title(f\"Density of averaged edge mask for {args.explainer_name}\")\n",
    "    plt.xlabel(\"edge importance\")\n",
    "    #plt.savefig(utils.io_utils.gen_mask_density_plt_name(args), dpi=600)\n",
    "    plt.show()\n",
    "    #plt.close()\n",
    "    matplotlib.style.use(\"default\")\n",
    "    "
   ]
  },
  {
   "cell_type": "code",
   "execution_count": null,
   "id": "58c4349d",
   "metadata": {},
   "outputs": [],
   "source": []
  }
 ],
 "metadata": {
  "kernelspec": {
   "display_name": "Python 3 (ipykernel)",
   "language": "python",
   "name": "python3"
  },
  "language_info": {
   "codemirror_mode": {
    "name": "ipython",
    "version": 3
   },
   "file_extension": ".py",
   "mimetype": "text/x-python",
   "name": "python",
   "nbconvert_exporter": "python",
   "pygments_lexer": "ipython3",
   "version": "3.8.5"
  }
 },
 "nbformat": 4,
 "nbformat_minor": 5
}
