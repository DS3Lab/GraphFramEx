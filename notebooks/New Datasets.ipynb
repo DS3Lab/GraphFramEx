{
 "cells": [
  {
   "cell_type": "code",
   "execution_count": 1,
   "id": "abc82baa",
   "metadata": {},
   "outputs": [],
   "source": [
    "import os\n",
    "import os.path as osp\n",
    "\n",
    "import numpy as np\n",
    "import scipy.sparse as sp\n",
    "import torch\n",
    "from torch_sparse import coalesce\n",
    "\n",
    "from torch_geometric.data import (Data, InMemoryDataset, download_url,\n",
    "                                  extract_zip)\n",
    "\n",
    "from torch_geometric.utils.convert import to_networkx\n",
    "import networkx as nx\n",
    "import matplotlib.pyplot as plt "
   ]
  },
  {
   "cell_type": "code",
   "execution_count": 24,
   "id": "7146b9e1",
   "metadata": {},
   "outputs": [],
   "source": [
    "from torch_geometric.datasets import Reddit, Reddit2, Flickr, AmazonProducts, FacebookPagePage, Planetoid, WikipediaNetwork, PPI, Actor, WebKB\n",
    "from torch_geometric.loader import ClusterData, ClusterLoader, NeighborSampler"
   ]
  },
  {
   "cell_type": "code",
   "execution_count": 9,
   "id": "5ba6ef03",
   "metadata": {},
   "outputs": [
    {
     "name": "stderr",
     "output_type": "stream",
     "text": [
      "Processing...\n",
      "Done!\n"
     ]
    }
   ],
   "source": [
    "data_dir = '/cluster/home/kamara/Explain/data/flickr'\n",
    "data = Flickr(data_dir)"
   ]
  },
  {
   "cell_type": "code",
   "execution_count": 10,
   "id": "673cc04e",
   "metadata": {},
   "outputs": [],
   "source": [
    "data_filename = '/cluster/home/kamara/Explain/data/flickr/processed/data.pt'\n",
    "data, _ = torch.load(data_filename)"
   ]
  },
  {
   "cell_type": "code",
   "execution_count": 11,
   "id": "967898fc",
   "metadata": {},
   "outputs": [
    {
     "data": {
      "text/plain": [
       "Data(x=[89250, 500], edge_index=[2, 899756], y=[89250], train_mask=[89250], val_mask=[89250], test_mask=[89250])"
      ]
     },
     "execution_count": 11,
     "metadata": {},
     "output_type": "execute_result"
    }
   ],
   "source": [
    "data"
   ]
  },
  {
   "cell_type": "code",
   "execution_count": null,
   "id": "e9735878",
   "metadata": {},
   "outputs": [
    {
     "name": "stderr",
     "output_type": "stream",
     "text": [
      "Computing METIS partitioning...\n"
     ]
    }
   ],
   "source": [
    "cluster_data = ClusterData(data, num_parts=1500, recursive=False,\n",
    "                           save_dir='/cluster/home/kamara/Explain/data/reddit/processed')\n"
   ]
  },
  {
   "cell_type": "code",
   "execution_count": null,
   "id": "614670c0",
   "metadata": {},
   "outputs": [],
   "source": [
    "train_loader = ClusterLoader(cluster_data, batch_size=20, shuffle=True,\n",
    "                             num_workers=12)\n",
    "\n",
    "subgraph_loader = NeighborSampler(data.edge_index, sizes=[-1], batch_size=1024,\n",
    "                                  shuffle=False, num_workers=12)"
   ]
  },
  {
   "cell_type": "code",
   "execution_count": 9,
   "id": "d6a96425",
   "metadata": {},
   "outputs": [],
   "source": [
    "from torch_geometric.loader import NeighborLoader\n",
    "\n",
    "loader = NeighborLoader(\n",
    "    data,\n",
    "    # Sample 30 neighbors for each node for 2 iterations\n",
    "    num_neighbors=[3] * 2,\n",
    "    batch_size = 2,\n",
    "    input_nodes=data.train_mask,\n",
    ")\n"
   ]
  },
  {
   "cell_type": "code",
   "execution_count": 10,
   "id": "d30573c7",
   "metadata": {},
   "outputs": [
    {
     "data": {
      "text/plain": [
       "Data(x=[26, 602], edge_index=[2, 24], y=[26], train_mask=[26], val_mask=[26], test_mask=[26], batch_size=2)"
      ]
     },
     "execution_count": 10,
     "metadata": {},
     "output_type": "execute_result"
    }
   ],
   "source": [
    "sampled_data = next(iter(loader))\n",
    "sampled_data"
   ]
  },
  {
   "cell_type": "code",
   "execution_count": 18,
   "id": "ea3abf27",
   "metadata": {},
   "outputs": [
    {
     "name": "stderr",
     "output_type": "stream",
     "text": [
      "  1%|███▎                                                                                                                                                                                                                                                            | 2/154 [00:00<00:12, 12.30it/s]"
     ]
    },
    {
     "name": "stdout",
     "output_type": "stream",
     "text": [
      "Data(x=[64986, 602], edge_index=[2, 100890], y=[64986], train_mask=[64986], val_mask=[64986], test_mask=[64986], batch_size=1000)\n",
      "1\n",
      "Data(x=[64971, 602], edge_index=[2, 100582], y=[64971], train_mask=[64971], val_mask=[64971], test_mask=[64971], batch_size=1000)\n",
      "2\n",
      "Data(x=[65036, 602], edge_index=[2, 100493], y=[65036], train_mask=[65036], val_mask=[65036], test_mask=[65036], batch_size=1000)\n",
      "3\n"
     ]
    },
    {
     "name": "stderr",
     "output_type": "stream",
     "text": [
      "  4%|█████████▉                                                                                                                                                                                                                                                      | 6/154 [00:00<00:12, 11.88it/s]"
     ]
    },
    {
     "name": "stdout",
     "output_type": "stream",
     "text": [
      "Data(x=[64399, 602], edge_index=[2, 100230], y=[64399], train_mask=[64399], val_mask=[64399], test_mask=[64399], batch_size=1000)\n",
      "4\n",
      "Data(x=[65939, 602], edge_index=[2, 101617], y=[65939], train_mask=[65939], val_mask=[65939], test_mask=[65939], batch_size=1000)\n",
      "5\n",
      "Data(x=[65103, 602], edge_index=[2, 101062], y=[65103], train_mask=[65103], val_mask=[65103], test_mask=[65103], batch_size=1000)\n",
      "6\n"
     ]
    },
    {
     "name": "stderr",
     "output_type": "stream",
     "text": [
      "\r",
      "  5%|█████████████▎                                                                                                                                                                                                                                                  | 8/154 [00:00<00:12, 11.79it/s]"
     ]
    },
    {
     "name": "stdout",
     "output_type": "stream",
     "text": [
      "Data(x=[64813, 602], edge_index=[2, 100330], y=[64813], train_mask=[64813], val_mask=[64813], test_mask=[64813], batch_size=1000)\n",
      "7\n",
      "Data(x=[65061, 602], edge_index=[2, 100685], y=[65061], train_mask=[65061], val_mask=[65061], test_mask=[65061], batch_size=1000)\n",
      "8\n",
      "Data(x=[65784, 602], edge_index=[2, 101371], y=[65784], train_mask=[65784], val_mask=[65784], test_mask=[65784], batch_size=1000)\n",
      "9\n"
     ]
    },
    {
     "name": "stderr",
     "output_type": "stream",
     "text": [
      "  8%|███████████████████▊                                                                                                                                                                                                                                           | 12/154 [00:01<00:12, 11.58it/s]"
     ]
    },
    {
     "name": "stdout",
     "output_type": "stream",
     "text": [
      "Data(x=[64519, 602], edge_index=[2, 100078], y=[64519], train_mask=[64519], val_mask=[64519], test_mask=[64519], batch_size=1000)\n",
      "10\n",
      "Data(x=[64967, 602], edge_index=[2, 100700], y=[64967], train_mask=[64967], val_mask=[64967], test_mask=[64967], batch_size=1000)\n",
      "11\n",
      "Data(x=[65452, 602], edge_index=[2, 101235], y=[65452], train_mask=[65452], val_mask=[65452], test_mask=[65452], batch_size=1000)\n",
      "12\n"
     ]
    },
    {
     "name": "stderr",
     "output_type": "stream",
     "text": [
      "\r",
      "  9%|███████████████████████▏                                                                                                                                                                                                                                       | 14/154 [00:01<00:12, 11.60it/s]"
     ]
    },
    {
     "name": "stdout",
     "output_type": "stream",
     "text": [
      "Data(x=[64929, 602], edge_index=[2, 100460], y=[64929], train_mask=[64929], val_mask=[64929], test_mask=[64929], batch_size=1000)\n",
      "13\n",
      "Data(x=[65006, 602], edge_index=[2, 100493], y=[65006], train_mask=[65006], val_mask=[65006], test_mask=[65006], batch_size=1000)\n",
      "14\n",
      "Data(x=[64991, 602], edge_index=[2, 100283], y=[64991], train_mask=[64991], val_mask=[64991], test_mask=[64991], batch_size=1000)\n",
      "15\n"
     ]
    },
    {
     "name": "stderr",
     "output_type": "stream",
     "text": [
      " 12%|█████████████████████████████▊                                                                                                                                                                                                                                 | 18/154 [00:01<00:11, 11.65it/s]"
     ]
    },
    {
     "name": "stdout",
     "output_type": "stream",
     "text": [
      "Data(x=[65776, 602], edge_index=[2, 101820], y=[65776], train_mask=[65776], val_mask=[65776], test_mask=[65776], batch_size=1000)\n",
      "16\n",
      "Data(x=[65374, 602], edge_index=[2, 100567], y=[65374], train_mask=[65374], val_mask=[65374], test_mask=[65374], batch_size=1000)\n",
      "17\n",
      "Data(x=[65327, 602], edge_index=[2, 101235], y=[65327], train_mask=[65327], val_mask=[65327], test_mask=[65327], batch_size=1000)\n",
      "18\n"
     ]
    },
    {
     "name": "stderr",
     "output_type": "stream",
     "text": [
      "\r",
      " 13%|█████████████████████████████████                                                                                                                                                                                                                              | 20/154 [00:01<00:11, 11.66it/s]"
     ]
    },
    {
     "name": "stdout",
     "output_type": "stream",
     "text": [
      "Data(x=[64994, 602], edge_index=[2, 100516], y=[64994], train_mask=[64994], val_mask=[64994], test_mask=[64994], batch_size=1000)\n",
      "19\n",
      "Data(x=[64397, 602], edge_index=[2, 100152], y=[64397], train_mask=[64397], val_mask=[64397], test_mask=[64397], batch_size=1000)\n",
      "20\n",
      "Data(x=[65501, 602], edge_index=[2, 101425], y=[65501], train_mask=[65501], val_mask=[65501], test_mask=[65501], batch_size=1000)\n",
      "21\n"
     ]
    },
    {
     "name": "stderr",
     "output_type": "stream",
     "text": [
      " 16%|███████████████████████████████████████▋                                                                                                                                                                                                                       | 24/154 [00:02<00:11, 11.65it/s]"
     ]
    },
    {
     "name": "stdout",
     "output_type": "stream",
     "text": [
      "Data(x=[65308, 602], edge_index=[2, 100869], y=[65308], train_mask=[65308], val_mask=[65308], test_mask=[65308], batch_size=1000)\n",
      "22\n",
      "Data(x=[64641, 602], edge_index=[2, 100468], y=[64641], train_mask=[64641], val_mask=[64641], test_mask=[64641], batch_size=1000)\n",
      "23\n",
      "Data(x=[65161, 602], edge_index=[2, 100731], y=[65161], train_mask=[65161], val_mask=[65161], test_mask=[65161], batch_size=1000)\n",
      "24\n"
     ]
    },
    {
     "name": "stderr",
     "output_type": "stream",
     "text": [
      "\r",
      " 17%|███████████████████████████████████████████                                                                                                                                                                                                                    | 26/154 [00:02<00:10, 11.66it/s]"
     ]
    },
    {
     "name": "stdout",
     "output_type": "stream",
     "text": [
      "Data(x=[65158, 602], edge_index=[2, 100686], y=[65158], train_mask=[65158], val_mask=[65158], test_mask=[65158], batch_size=1000)\n",
      "25\n",
      "Data(x=[65425, 602], edge_index=[2, 100744], y=[65425], train_mask=[65425], val_mask=[65425], test_mask=[65425], batch_size=1000)\n",
      "26\n",
      "Data(x=[65422, 602], edge_index=[2, 100614], y=[65422], train_mask=[65422], val_mask=[65422], test_mask=[65422], batch_size=1000)\n",
      "27\n"
     ]
    },
    {
     "name": "stderr",
     "output_type": "stream",
     "text": [
      " 19%|█████████████████████████████████████████████████▋                                                                                                                                                                                                             | 30/154 [00:02<00:10, 11.53it/s]"
     ]
    },
    {
     "name": "stdout",
     "output_type": "stream",
     "text": [
      "Data(x=[65271, 602], edge_index=[2, 100464], y=[65271], train_mask=[65271], val_mask=[65271], test_mask=[65271], batch_size=1000)\n",
      "28\n",
      "Data(x=[64940, 602], edge_index=[2, 100460], y=[64940], train_mask=[64940], val_mask=[64940], test_mask=[64940], batch_size=1000)\n",
      "29\n",
      "Data(x=[64718, 602], edge_index=[2, 100473], y=[64718], train_mask=[64718], val_mask=[64718], test_mask=[64718], batch_size=1000)\n",
      "30\n"
     ]
    },
    {
     "name": "stderr",
     "output_type": "stream",
     "text": [
      "\r",
      " 21%|████████████████████████████████████████████████████▉                                                                                                                                                                                                          | 32/154 [00:02<00:10, 11.58it/s]"
     ]
    },
    {
     "name": "stdout",
     "output_type": "stream",
     "text": [
      "Data(x=[65125, 602], edge_index=[2, 100399], y=[65125], train_mask=[65125], val_mask=[65125], test_mask=[65125], batch_size=1000)\n",
      "31\n",
      "Data(x=[64934, 602], edge_index=[2, 100536], y=[64934], train_mask=[64934], val_mask=[64934], test_mask=[64934], batch_size=1000)\n",
      "32\n",
      "Data(x=[64931, 602], edge_index=[2, 100053], y=[64931], train_mask=[64931], val_mask=[64931], test_mask=[64931], batch_size=1000)\n",
      "33\n"
     ]
    },
    {
     "name": "stderr",
     "output_type": "stream",
     "text": [
      " 23%|███████████████████████████████████████████████████████████▌                                                                                                                                                                                                   | 36/154 [00:03<00:10, 11.69it/s]"
     ]
    },
    {
     "name": "stdout",
     "output_type": "stream",
     "text": [
      "Data(x=[65239, 602], edge_index=[2, 101067], y=[65239], train_mask=[65239], val_mask=[65239], test_mask=[65239], batch_size=1000)\n",
      "34\n",
      "Data(x=[64629, 602], edge_index=[2, 100228], y=[64629], train_mask=[64629], val_mask=[64629], test_mask=[64629], batch_size=1000)\n",
      "35\n",
      "Data(x=[64704, 602], edge_index=[2, 99743], y=[64704], train_mask=[64704], val_mask=[64704], test_mask=[64704], batch_size=1000)\n",
      "36\n"
     ]
    },
    {
     "name": "stderr",
     "output_type": "stream",
     "text": [
      "\r",
      " 25%|██████████████████████████████████████████████████████████████▉                                                                                                                                                                                                | 38/154 [00:03<00:09, 11.66it/s]"
     ]
    },
    {
     "name": "stdout",
     "output_type": "stream",
     "text": [
      "Data(x=[65600, 602], edge_index=[2, 101297], y=[65600], train_mask=[65600], val_mask=[65600], test_mask=[65600], batch_size=1000)\n",
      "37\n",
      "Data(x=[64966, 602], edge_index=[2, 100675], y=[64966], train_mask=[64966], val_mask=[64966], test_mask=[64966], batch_size=1000)\n",
      "38\n",
      "Data(x=[65158, 602], edge_index=[2, 101110], y=[65158], train_mask=[65158], val_mask=[65158], test_mask=[65158], batch_size=1000)\n",
      "39\n"
     ]
    },
    {
     "name": "stderr",
     "output_type": "stream",
     "text": [
      " 27%|█████████████████████████████████████████████████████████████████████▌                                                                                                                                                                                         | 42/154 [00:03<00:09, 11.65it/s]"
     ]
    },
    {
     "name": "stdout",
     "output_type": "stream",
     "text": [
      "Data(x=[65289, 602], edge_index=[2, 100021], y=[65289], train_mask=[65289], val_mask=[65289], test_mask=[65289], batch_size=1000)\n",
      "40\n",
      "Data(x=[65315, 602], edge_index=[2, 100522], y=[65315], train_mask=[65315], val_mask=[65315], test_mask=[65315], batch_size=1000)\n",
      "41\n",
      "Data(x=[65577, 602], edge_index=[2, 100353], y=[65577], train_mask=[65577], val_mask=[65577], test_mask=[65577], batch_size=1000)\n",
      "42\n"
     ]
    },
    {
     "name": "stderr",
     "output_type": "stream",
     "text": [
      "\r",
      " 29%|████████████████████████████████████████████████████████████████████████▊                                                                                                                                                                                      | 44/154 [00:03<00:09, 11.65it/s]"
     ]
    },
    {
     "name": "stdout",
     "output_type": "stream",
     "text": [
      "Data(x=[65187, 602], edge_index=[2, 100680], y=[65187], train_mask=[65187], val_mask=[65187], test_mask=[65187], batch_size=1000)\n",
      "43\n",
      "Data(x=[65174, 602], edge_index=[2, 100813], y=[65174], train_mask=[65174], val_mask=[65174], test_mask=[65174], batch_size=1000)\n",
      "44\n",
      "Data(x=[65269, 602], edge_index=[2, 100654], y=[65269], train_mask=[65269], val_mask=[65269], test_mask=[65269], batch_size=1000)\n",
      "45\n"
     ]
    },
    {
     "name": "stderr",
     "output_type": "stream",
     "text": [
      " 31%|███████████████████████████████████████████████████████████████████████████████▍                                                                                                                                                                               | 48/154 [00:04<00:09, 11.66it/s]"
     ]
    },
    {
     "name": "stdout",
     "output_type": "stream",
     "text": [
      "Data(x=[65503, 602], edge_index=[2, 100930], y=[65503], train_mask=[65503], val_mask=[65503], test_mask=[65503], batch_size=1000)\n",
      "46\n",
      "Data(x=[64861, 602], edge_index=[2, 100263], y=[64861], train_mask=[64861], val_mask=[64861], test_mask=[64861], batch_size=1000)\n",
      "47\n",
      "Data(x=[64845, 602], edge_index=[2, 100237], y=[64845], train_mask=[64845], val_mask=[64845], test_mask=[64845], batch_size=1000)\n",
      "48\n"
     ]
    },
    {
     "name": "stderr",
     "output_type": "stream",
     "text": [
      "\r",
      " 32%|██████████████████████████████████████████████████████████████████████████████████▊                                                                                                                                                                            | 50/154 [00:04<00:08, 11.68it/s]"
     ]
    },
    {
     "name": "stdout",
     "output_type": "stream",
     "text": [
      "Data(x=[64747, 602], edge_index=[2, 100092], y=[64747], train_mask=[64747], val_mask=[64747], test_mask=[64747], batch_size=1000)\n",
      "49\n",
      "Data(x=[64790, 602], edge_index=[2, 100516], y=[64790], train_mask=[64790], val_mask=[64790], test_mask=[64790], batch_size=1000)\n",
      "50\n",
      "Data(x=[65141, 602], edge_index=[2, 100742], y=[65141], train_mask=[65141], val_mask=[65141], test_mask=[65141], batch_size=1000)\n",
      "51\n"
     ]
    },
    {
     "name": "stderr",
     "output_type": "stream",
     "text": [
      " 35%|█████████████████████████████████████████████████████████████████████████████████████████▍                                                                                                                                                                     | 54/154 [00:04<00:08, 11.68it/s]"
     ]
    },
    {
     "name": "stdout",
     "output_type": "stream",
     "text": [
      "Data(x=[65288, 602], edge_index=[2, 100660], y=[65288], train_mask=[65288], val_mask=[65288], test_mask=[65288], batch_size=1000)\n",
      "52\n",
      "Data(x=[65270, 602], edge_index=[2, 100486], y=[65270], train_mask=[65270], val_mask=[65270], test_mask=[65270], batch_size=1000)\n",
      "53\n",
      "Data(x=[64555, 602], edge_index=[2, 99743], y=[64555], train_mask=[64555], val_mask=[64555], test_mask=[64555], batch_size=1000)\n",
      "54\n"
     ]
    },
    {
     "name": "stderr",
     "output_type": "stream",
     "text": [
      "\r",
      " 36%|████████████████████████████████████████████████████████████████████████████████████████████▋                                                                                                                                                                  | 56/154 [00:04<00:08, 11.70it/s]"
     ]
    },
    {
     "name": "stdout",
     "output_type": "stream",
     "text": [
      "Data(x=[65407, 602], edge_index=[2, 100724], y=[65407], train_mask=[65407], val_mask=[65407], test_mask=[65407], batch_size=1000)\n",
      "55\n",
      "Data(x=[64908, 602], edge_index=[2, 100111], y=[64908], train_mask=[64908], val_mask=[64908], test_mask=[64908], batch_size=1000)\n",
      "56\n",
      "Data(x=[65465, 602], edge_index=[2, 101232], y=[65465], train_mask=[65465], val_mask=[65465], test_mask=[65465], batch_size=1000)\n",
      "57\n"
     ]
    },
    {
     "name": "stderr",
     "output_type": "stream",
     "text": [
      " 39%|███████████████████████████████████████████████████████████████████████████████████████████████████▎                                                                                                                                                           | 60/154 [00:05<00:08, 11.66it/s]"
     ]
    },
    {
     "name": "stdout",
     "output_type": "stream",
     "text": [
      "Data(x=[65140, 602], edge_index=[2, 100726], y=[65140], train_mask=[65140], val_mask=[65140], test_mask=[65140], batch_size=1000)\n",
      "58\n",
      "Data(x=[65333, 602], edge_index=[2, 101021], y=[65333], train_mask=[65333], val_mask=[65333], test_mask=[65333], batch_size=1000)\n",
      "59\n",
      "Data(x=[65837, 602], edge_index=[2, 101977], y=[65837], train_mask=[65837], val_mask=[65837], test_mask=[65837], batch_size=1000)\n",
      "60\n"
     ]
    },
    {
     "name": "stderr",
     "output_type": "stream",
     "text": [
      "\r",
      " 40%|██████████████████████████████████████████████████████████████████████████████████████████████████████▋                                                                                                                                                        | 62/154 [00:05<00:07, 11.62it/s]"
     ]
    },
    {
     "name": "stdout",
     "output_type": "stream",
     "text": [
      "Data(x=[65344, 602], edge_index=[2, 100372], y=[65344], train_mask=[65344], val_mask=[65344], test_mask=[65344], batch_size=1000)\n",
      "61\n",
      "Data(x=[65509, 602], edge_index=[2, 100862], y=[65509], train_mask=[65509], val_mask=[65509], test_mask=[65509], batch_size=1000)\n",
      "62\n",
      "Data(x=[65473, 602], edge_index=[2, 100969], y=[65473], train_mask=[65473], val_mask=[65473], test_mask=[65473], batch_size=1000)\n",
      "63\n"
     ]
    },
    {
     "name": "stderr",
     "output_type": "stream",
     "text": [
      " 43%|█████████████████████████████████████████████████████████████████████████████████████████████████████████████▎                                                                                                                                                 | 66/154 [00:05<00:07, 11.51it/s]"
     ]
    },
    {
     "name": "stdout",
     "output_type": "stream",
     "text": [
      "Data(x=[65253, 602], edge_index=[2, 100222], y=[65253], train_mask=[65253], val_mask=[65253], test_mask=[65253], batch_size=1000)\n",
      "64\n",
      "Data(x=[65171, 602], edge_index=[2, 100409], y=[65171], train_mask=[65171], val_mask=[65171], test_mask=[65171], batch_size=1000)\n",
      "65\n",
      "Data(x=[65500, 602], edge_index=[2, 100543], y=[65500], train_mask=[65500], val_mask=[65500], test_mask=[65500], batch_size=1000)\n",
      "66\n"
     ]
    },
    {
     "name": "stderr",
     "output_type": "stream",
     "text": [
      "\r",
      " 44%|████████████████████████████████████████████████████████████████████████████████████████████████████████████████▌                                                                                                                                              | 68/154 [00:05<00:07, 11.58it/s]"
     ]
    },
    {
     "name": "stdout",
     "output_type": "stream",
     "text": [
      "Data(x=[65077, 602], edge_index=[2, 100259], y=[65077], train_mask=[65077], val_mask=[65077], test_mask=[65077], batch_size=1000)\n",
      "67\n",
      "Data(x=[65298, 602], edge_index=[2, 99795], y=[65298], train_mask=[65298], val_mask=[65298], test_mask=[65298], batch_size=1000)\n",
      "68\n",
      "Data(x=[65202, 602], edge_index=[2, 100141], y=[65202], train_mask=[65202], val_mask=[65202], test_mask=[65202], batch_size=1000)\n",
      "69\n"
     ]
    },
    {
     "name": "stderr",
     "output_type": "stream",
     "text": [
      " 47%|███████████████████████████████████████████████████████████████████████████████████████████████████████████████████████▏                                                                                                                                       | 72/154 [00:06<00:07, 11.66it/s]"
     ]
    },
    {
     "name": "stdout",
     "output_type": "stream",
     "text": [
      "Data(x=[65604, 602], edge_index=[2, 100828], y=[65604], train_mask=[65604], val_mask=[65604], test_mask=[65604], batch_size=1000)\n",
      "70\n",
      "Data(x=[65189, 602], edge_index=[2, 100548], y=[65189], train_mask=[65189], val_mask=[65189], test_mask=[65189], batch_size=1000)\n",
      "71\n",
      "Data(x=[65341, 602], edge_index=[2, 101310], y=[65341], train_mask=[65341], val_mask=[65341], test_mask=[65341], batch_size=1000)\n",
      "72\n"
     ]
    },
    {
     "name": "stderr",
     "output_type": "stream",
     "text": [
      "\r",
      " 48%|██████████████████████████████████████████████████████████████████████████████████████████████████████████████████████████▌                                                                                                                                    | 74/154 [00:06<00:06, 11.69it/s]"
     ]
    },
    {
     "name": "stdout",
     "output_type": "stream",
     "text": [
      "Data(x=[65261, 602], edge_index=[2, 100600], y=[65261], train_mask=[65261], val_mask=[65261], test_mask=[65261], batch_size=1000)\n",
      "73\n",
      "Data(x=[65369, 602], edge_index=[2, 100775], y=[65369], train_mask=[65369], val_mask=[65369], test_mask=[65369], batch_size=1000)\n",
      "74\n",
      "Data(x=[65236, 602], edge_index=[2, 100318], y=[65236], train_mask=[65236], val_mask=[65236], test_mask=[65236], batch_size=1000)\n",
      "75\n"
     ]
    },
    {
     "name": "stderr",
     "output_type": "stream",
     "text": [
      " 51%|█████████████████████████████████████████████████████████████████████████████████████████████████████████████████████████████████▏                                                                                                                             | 78/154 [00:06<00:06, 11.70it/s]"
     ]
    },
    {
     "name": "stdout",
     "output_type": "stream",
     "text": [
      "Data(x=[65382, 602], edge_index=[2, 100567], y=[65382], train_mask=[65382], val_mask=[65382], test_mask=[65382], batch_size=1000)\n",
      "76\n",
      "Data(x=[65383, 602], edge_index=[2, 101316], y=[65383], train_mask=[65383], val_mask=[65383], test_mask=[65383], batch_size=1000)\n",
      "77\n",
      "Data(x=[65760, 602], edge_index=[2, 101165], y=[65760], train_mask=[65760], val_mask=[65760], test_mask=[65760], batch_size=1000)\n",
      "78\n"
     ]
    },
    {
     "name": "stderr",
     "output_type": "stream",
     "text": [
      "\r",
      " 52%|████████████████████████████████████████████████████████████████████████████████████████████████████████████████████████████████████▍                                                                                                                          | 80/154 [00:06<00:06, 11.70it/s]"
     ]
    },
    {
     "name": "stdout",
     "output_type": "stream",
     "text": [
      "Data(x=[64711, 602], edge_index=[2, 100087], y=[64711], train_mask=[64711], val_mask=[64711], test_mask=[64711], batch_size=1000)\n",
      "79\n",
      "Data(x=[65595, 602], edge_index=[2, 101170], y=[65595], train_mask=[65595], val_mask=[65595], test_mask=[65595], batch_size=1000)\n",
      "80\n",
      "Data(x=[65311, 602], edge_index=[2, 100783], y=[65311], train_mask=[65311], val_mask=[65311], test_mask=[65311], batch_size=1000)\n",
      "81\n"
     ]
    },
    {
     "name": "stderr",
     "output_type": "stream",
     "text": [
      " 55%|███████████████████████████████████████████████████████████████████████████████████████████████████████████████████████████████████████████                                                                                                                    | 84/154 [00:07<00:06, 11.60it/s]"
     ]
    },
    {
     "name": "stdout",
     "output_type": "stream",
     "text": [
      "Data(x=[64888, 602], edge_index=[2, 100140], y=[64888], train_mask=[64888], val_mask=[64888], test_mask=[64888], batch_size=1000)\n",
      "82\n",
      "Data(x=[65324, 602], edge_index=[2, 100382], y=[65324], train_mask=[65324], val_mask=[65324], test_mask=[65324], batch_size=1000)\n",
      "83\n",
      "Data(x=[65438, 602], edge_index=[2, 101201], y=[65438], train_mask=[65438], val_mask=[65438], test_mask=[65438], batch_size=1000)\n",
      "84\n"
     ]
    },
    {
     "name": "stderr",
     "output_type": "stream",
     "text": [
      "\r",
      " 56%|██████████████████████████████████████████████████████████████████████████████████████████████████████████████████████████████████████████████▍                                                                                                                | 86/154 [00:07<00:05, 11.60it/s]"
     ]
    },
    {
     "name": "stdout",
     "output_type": "stream",
     "text": [
      "Data(x=[64798, 602], edge_index=[2, 100272], y=[64798], train_mask=[64798], val_mask=[64798], test_mask=[64798], batch_size=1000)\n",
      "85\n",
      "Data(x=[65216, 602], edge_index=[2, 100435], y=[65216], train_mask=[65216], val_mask=[65216], test_mask=[65216], batch_size=1000)\n",
      "86\n",
      "Data(x=[65340, 602], edge_index=[2, 100895], y=[65340], train_mask=[65340], val_mask=[65340], test_mask=[65340], batch_size=1000)\n",
      "87\n"
     ]
    },
    {
     "name": "stderr",
     "output_type": "stream",
     "text": [
      " 58%|█████████████████████████████████████████████████████████████████████████████████████████████████████████████████████████████████████████████████████                                                                                                          | 90/154 [00:07<00:05, 11.66it/s]"
     ]
    },
    {
     "name": "stdout",
     "output_type": "stream",
     "text": [
      "Data(x=[64996, 602], edge_index=[2, 100267], y=[64996], train_mask=[64996], val_mask=[64996], test_mask=[64996], batch_size=1000)\n",
      "88\n",
      "Data(x=[64935, 602], edge_index=[2, 100196], y=[64935], train_mask=[64935], val_mask=[64935], test_mask=[64935], batch_size=1000)\n",
      "89\n",
      "Data(x=[65493, 602], edge_index=[2, 101274], y=[65493], train_mask=[65493], val_mask=[65493], test_mask=[65493], batch_size=1000)\n",
      "90\n"
     ]
    },
    {
     "name": "stderr",
     "output_type": "stream",
     "text": [
      "\r",
      " 60%|████████████████████████████████████████████████████████████████████████████████████████████████████████████████████████████████████████████████████████▎                                                                                                      | 92/154 [00:07<00:05, 11.66it/s]"
     ]
    },
    {
     "name": "stdout",
     "output_type": "stream",
     "text": [
      "Data(x=[65049, 602], edge_index=[2, 100588], y=[65049], train_mask=[65049], val_mask=[65049], test_mask=[65049], batch_size=1000)\n",
      "91\n",
      "Data(x=[65462, 602], edge_index=[2, 101325], y=[65462], train_mask=[65462], val_mask=[65462], test_mask=[65462], batch_size=1000)\n",
      "92\n",
      "Data(x=[65476, 602], edge_index=[2, 101043], y=[65476], train_mask=[65476], val_mask=[65476], test_mask=[65476], batch_size=1000)\n",
      "93\n"
     ]
    },
    {
     "name": "stderr",
     "output_type": "stream",
     "text": [
      " 62%|██████████████████████████████████████████████████████████████████████████████████████████████████████████████████████████████████████████████████████████████▉                                                                                                | 96/154 [00:08<00:04, 11.64it/s]"
     ]
    },
    {
     "name": "stdout",
     "output_type": "stream",
     "text": [
      "Data(x=[65300, 602], edge_index=[2, 101007], y=[65300], train_mask=[65300], val_mask=[65300], test_mask=[65300], batch_size=1000)\n",
      "94\n",
      "Data(x=[65561, 602], edge_index=[2, 101889], y=[65561], train_mask=[65561], val_mask=[65561], test_mask=[65561], batch_size=1000)\n",
      "95\n",
      "Data(x=[64939, 602], edge_index=[2, 100545], y=[64939], train_mask=[64939], val_mask=[64939], test_mask=[64939], batch_size=1000)\n",
      "96\n"
     ]
    },
    {
     "name": "stderr",
     "output_type": "stream",
     "text": [
      "\r",
      " 64%|██████████████████████████████████████████████████████████████████████████████████████████████████████████████████████████████████████████████████████████████████▎                                                                                            | 98/154 [00:08<00:04, 11.64it/s]"
     ]
    },
    {
     "name": "stdout",
     "output_type": "stream",
     "text": [
      "Data(x=[65441, 602], edge_index=[2, 100405], y=[65441], train_mask=[65441], val_mask=[65441], test_mask=[65441], batch_size=1000)\n",
      "97\n",
      "Data(x=[65623, 602], edge_index=[2, 101563], y=[65623], train_mask=[65623], val_mask=[65623], test_mask=[65623], batch_size=1000)\n",
      "98\n",
      "Data(x=[65546, 602], edge_index=[2, 100880], y=[65546], train_mask=[65546], val_mask=[65546], test_mask=[65546], batch_size=1000)\n",
      "99\n"
     ]
    },
    {
     "name": "stderr",
     "output_type": "stream",
     "text": [
      " 66%|████████████████████████████████████████████████████████████████████████████████████████████████████████████████████████████████████████████████████████████████████████▏                                                                                     | 102/154 [00:08<00:04, 11.56it/s]"
     ]
    },
    {
     "name": "stdout",
     "output_type": "stream",
     "text": [
      "Data(x=[65102, 602], edge_index=[2, 100613], y=[65102], train_mask=[65102], val_mask=[65102], test_mask=[65102], batch_size=1000)\n",
      "100\n",
      "Data(x=[64823, 602], edge_index=[2, 99581], y=[64823], train_mask=[64823], val_mask=[64823], test_mask=[64823], batch_size=1000)\n",
      "101\n",
      "Data(x=[65342, 602], edge_index=[2, 100741], y=[65342], train_mask=[65342], val_mask=[65342], test_mask=[65342], batch_size=1000)\n",
      "102\n"
     ]
    },
    {
     "name": "stderr",
     "output_type": "stream",
     "text": [
      "\r",
      " 68%|███████████████████████████████████████████████████████████████████████████████████████████████████████████████████████████████████████████████████████████████████████████▌                                                                                  | 104/154 [00:08<00:04, 11.59it/s]"
     ]
    },
    {
     "name": "stdout",
     "output_type": "stream",
     "text": [
      "Data(x=[64864, 602], edge_index=[2, 99949], y=[64864], train_mask=[64864], val_mask=[64864], test_mask=[64864], batch_size=1000)\n",
      "103\n",
      "Data(x=[64667, 602], edge_index=[2, 100544], y=[64667], train_mask=[64667], val_mask=[64667], test_mask=[64667], batch_size=1000)\n",
      "104\n",
      "Data(x=[65215, 602], edge_index=[2, 100836], y=[65215], train_mask=[65215], val_mask=[65215], test_mask=[65215], batch_size=1000)\n",
      "105\n"
     ]
    },
    {
     "name": "stderr",
     "output_type": "stream",
     "text": [
      " 70%|██████████████████████████████████████████████████████████████████████████████████████████████████████████████████████████████████████████████████████████████████████████████████▏                                                                           | 108/154 [00:09<00:03, 11.72it/s]"
     ]
    },
    {
     "name": "stdout",
     "output_type": "stream",
     "text": [
      "Data(x=[64988, 602], edge_index=[2, 100333], y=[64988], train_mask=[64988], val_mask=[64988], test_mask=[64988], batch_size=1000)\n",
      "106\n",
      "Data(x=[64276, 602], edge_index=[2, 99371], y=[64276], train_mask=[64276], val_mask=[64276], test_mask=[64276], batch_size=1000)\n",
      "107\n",
      "Data(x=[65141, 602], edge_index=[2, 101068], y=[65141], train_mask=[65141], val_mask=[65141], test_mask=[65141], batch_size=1000)\n",
      "108\n"
     ]
    },
    {
     "name": "stderr",
     "output_type": "stream",
     "text": [
      "\r",
      " 71%|█████████████████████████████████████████████████████████████████████████████████████████████████████████████████████████████████████████████████████████████████████████████████████▍                                                                        | 110/154 [00:09<00:03, 11.72it/s]"
     ]
    },
    {
     "name": "stdout",
     "output_type": "stream",
     "text": [
      "Data(x=[65411, 602], edge_index=[2, 101418], y=[65411], train_mask=[65411], val_mask=[65411], test_mask=[65411], batch_size=1000)\n",
      "109\n",
      "Data(x=[64660, 602], edge_index=[2, 100047], y=[64660], train_mask=[64660], val_mask=[64660], test_mask=[64660], batch_size=1000)\n",
      "110\n",
      "Data(x=[64689, 602], edge_index=[2, 99547], y=[64689], train_mask=[64689], val_mask=[64689], test_mask=[64689], batch_size=1000)\n",
      "111\n"
     ]
    },
    {
     "name": "stderr",
     "output_type": "stream",
     "text": [
      " 74%|████████████████████████████████████████████████████████████████████████████████████████████████████████████████████████████████████████████████████████████████████████████████████████████                                                                  | 114/154 [00:09<00:03, 11.74it/s]"
     ]
    },
    {
     "name": "stdout",
     "output_type": "stream",
     "text": [
      "Data(x=[64961, 602], edge_index=[2, 100744], y=[64961], train_mask=[64961], val_mask=[64961], test_mask=[64961], batch_size=1000)\n",
      "112\n",
      "Data(x=[65536, 602], edge_index=[2, 101083], y=[65536], train_mask=[65536], val_mask=[65536], test_mask=[65536], batch_size=1000)\n",
      "113\n",
      "Data(x=[65039, 602], edge_index=[2, 100396], y=[65039], train_mask=[65039], val_mask=[65039], test_mask=[65039], batch_size=1000)\n",
      "114\n"
     ]
    },
    {
     "name": "stderr",
     "output_type": "stream",
     "text": [
      "\r",
      " 75%|███████████████████████████████████████████████████████████████████████████████████████████████████████████████████████████████████████████████████████████████████████████████████████████████▎                                                              | 116/154 [00:09<00:03, 11.72it/s]"
     ]
    },
    {
     "name": "stdout",
     "output_type": "stream",
     "text": [
      "Data(x=[65682, 602], edge_index=[2, 101332], y=[65682], train_mask=[65682], val_mask=[65682], test_mask=[65682], batch_size=1000)\n",
      "115\n",
      "Data(x=[65483, 602], edge_index=[2, 101188], y=[65483], train_mask=[65483], val_mask=[65483], test_mask=[65483], batch_size=1000)\n",
      "116\n",
      "Data(x=[65062, 602], edge_index=[2, 100177], y=[65062], train_mask=[65062], val_mask=[65062], test_mask=[65062], batch_size=1000)\n",
      "117\n"
     ]
    },
    {
     "name": "stderr",
     "output_type": "stream",
     "text": [
      " 78%|█████████████████████████████████████████████████████████████████████████████████████████████████████████████████████████████████████████████████████████████████████████████████████████████████████▉                                                        | 120/154 [00:10<00:02, 11.64it/s]"
     ]
    },
    {
     "name": "stdout",
     "output_type": "stream",
     "text": [
      "Data(x=[65198, 602], edge_index=[2, 100706], y=[65198], train_mask=[65198], val_mask=[65198], test_mask=[65198], batch_size=1000)\n",
      "118\n",
      "Data(x=[65523, 602], edge_index=[2, 101196], y=[65523], train_mask=[65523], val_mask=[65523], test_mask=[65523], batch_size=1000)\n",
      "119\n",
      "Data(x=[65280, 602], edge_index=[2, 100515], y=[65280], train_mask=[65280], val_mask=[65280], test_mask=[65280], batch_size=1000)\n",
      "120\n"
     ]
    },
    {
     "name": "stderr",
     "output_type": "stream",
     "text": [
      "\r",
      " 79%|█████████████████████████████████████████████████████████████████████████████████████████████████████████████████████████████████████████████████████████████████████████████████████████████████████████▏                                                    | 122/154 [00:10<00:02, 11.67it/s]"
     ]
    },
    {
     "name": "stdout",
     "output_type": "stream",
     "text": [
      "Data(x=[64723, 602], edge_index=[2, 100165], y=[64723], train_mask=[64723], val_mask=[64723], test_mask=[64723], batch_size=1000)\n",
      "121\n",
      "Data(x=[65016, 602], edge_index=[2, 100493], y=[65016], train_mask=[65016], val_mask=[65016], test_mask=[65016], batch_size=1000)\n",
      "122\n",
      "Data(x=[64819, 602], edge_index=[2, 100002], y=[64819], train_mask=[64819], val_mask=[64819], test_mask=[64819], batch_size=1000)\n",
      "123\n"
     ]
    },
    {
     "name": "stderr",
     "output_type": "stream",
     "text": [
      " 82%|███████████████████████████████████████████████████████████████████████████████████████████████████████████████████████████████████████████████████████████████████████████████████████████████████████████████▊                                              | 126/154 [00:10<00:02, 11.73it/s]"
     ]
    },
    {
     "name": "stdout",
     "output_type": "stream",
     "text": [
      "Data(x=[64969, 602], edge_index=[2, 100184], y=[64969], train_mask=[64969], val_mask=[64969], test_mask=[64969], batch_size=1000)\n",
      "124\n",
      "Data(x=[65505, 602], edge_index=[2, 100729], y=[65505], train_mask=[65505], val_mask=[65505], test_mask=[65505], batch_size=1000)\n",
      "125\n",
      "Data(x=[65486, 602], edge_index=[2, 100573], y=[65486], train_mask=[65486], val_mask=[65486], test_mask=[65486], batch_size=1000)\n",
      "126\n"
     ]
    },
    {
     "name": "stderr",
     "output_type": "stream",
     "text": [
      "\r",
      " 83%|███████████████████████████████████████████████████████████████████████████████████████████████████████████████████████████████████████████████████████████████████████████████████████████████████████████████████                                           | 128/154 [00:10<00:02, 11.72it/s]"
     ]
    },
    {
     "name": "stdout",
     "output_type": "stream",
     "text": [
      "Data(x=[65175, 602], edge_index=[2, 100029], y=[65175], train_mask=[65175], val_mask=[65175], test_mask=[65175], batch_size=1000)\n",
      "127\n",
      "Data(x=[65274, 602], edge_index=[2, 99563], y=[65274], train_mask=[65274], val_mask=[65274], test_mask=[65274], batch_size=1000)\n",
      "128\n",
      "Data(x=[65356, 602], edge_index=[2, 100252], y=[65356], train_mask=[65356], val_mask=[65356], test_mask=[65356], batch_size=1000)\n",
      "129\n"
     ]
    },
    {
     "name": "stderr",
     "output_type": "stream",
     "text": [
      " 86%|█████████████████████████████████████████████████████████████████████████████████████████████████████████████████████████████████████████████████████████████████████████████████████████████████████████████████████████▋                                    | 132/154 [00:11<00:01, 11.72it/s]"
     ]
    },
    {
     "name": "stdout",
     "output_type": "stream",
     "text": [
      "Data(x=[65084, 602], edge_index=[2, 99545], y=[65084], train_mask=[65084], val_mask=[65084], test_mask=[65084], batch_size=1000)\n",
      "130\n",
      "Data(x=[65308, 602], edge_index=[2, 100355], y=[65308], train_mask=[65308], val_mask=[65308], test_mask=[65308], batch_size=1000)\n",
      "131\n",
      "Data(x=[65016, 602], edge_index=[2, 99744], y=[65016], train_mask=[65016], val_mask=[65016], test_mask=[65016], batch_size=1000)\n",
      "132\n"
     ]
    },
    {
     "name": "stderr",
     "output_type": "stream",
     "text": [
      "\r",
      " 87%|█████████████████████████████████████████████████████████████████████████████████████████████████████████████████████████████████████████████████████████████████████████████████████████████████████████████████████████████                                 | 134/154 [00:11<00:01, 11.72it/s]"
     ]
    },
    {
     "name": "stdout",
     "output_type": "stream",
     "text": [
      "Data(x=[65106, 602], edge_index=[2, 100636], y=[65106], train_mask=[65106], val_mask=[65106], test_mask=[65106], batch_size=1000)\n",
      "133\n",
      "Data(x=[65048, 602], edge_index=[2, 99895], y=[65048], train_mask=[65048], val_mask=[65048], test_mask=[65048], batch_size=1000)\n",
      "134\n",
      "Data(x=[65218, 602], edge_index=[2, 100320], y=[65218], train_mask=[65218], val_mask=[65218], test_mask=[65218], batch_size=1000)\n",
      "135\n"
     ]
    },
    {
     "name": "stderr",
     "output_type": "stream",
     "text": [
      "\r",
      " 88%|████████████████████████████████████████████████████████████████████████████████████████████████████████████████████████████████████████████████████████████████████████████████████████████████████████████████████████████████▎                             | 136/154 [00:11<00:01, 11.40it/s]"
     ]
    },
    {
     "name": "stdout",
     "output_type": "stream",
     "text": [
      "Data(x=[64640, 602], edge_index=[2, 99806], y=[64640], train_mask=[64640], val_mask=[64640], test_mask=[64640], batch_size=1000)\n",
      "136\n",
      "Data(x=[65497, 602], edge_index=[2, 100283], y=[65497], train_mask=[65497], val_mask=[65497], test_mask=[65497], batch_size=1000)\n",
      "137\n"
     ]
    },
    {
     "name": "stderr",
     "output_type": "stream",
     "text": [
      " 91%|██████████████████████████████████████████████████████████████████████████████████████████████████████████████████████████████████████████████████████████████████████████████████████████████████████████████████████████████████████▉                       | 140/154 [00:12<00:01, 10.22it/s]"
     ]
    },
    {
     "name": "stdout",
     "output_type": "stream",
     "text": [
      "Data(x=[65486, 602], edge_index=[2, 100215], y=[65486], train_mask=[65486], val_mask=[65486], test_mask=[65486], batch_size=1000)\n",
      "138\n",
      "Data(x=[64982, 602], edge_index=[2, 99799], y=[64982], train_mask=[64982], val_mask=[64982], test_mask=[64982], batch_size=1000)\n",
      "139\n",
      "Data(x=[65674, 602], edge_index=[2, 100612], y=[65674], train_mask=[65674], val_mask=[65674], test_mask=[65674], batch_size=1000)\n",
      "140\n"
     ]
    },
    {
     "name": "stderr",
     "output_type": "stream",
     "text": [
      "\r",
      " 92%|██████████████████████████████████████████████████████████████████████████████████████████████████████████████████████████████████████████████████████████████████████████████████████████████████████████████████████████████████████████▏                   | 142/154 [00:12<00:01, 10.39it/s]"
     ]
    },
    {
     "name": "stdout",
     "output_type": "stream",
     "text": [
      "Data(x=[64948, 602], edge_index=[2, 100507], y=[64948], train_mask=[64948], val_mask=[64948], test_mask=[64948], batch_size=1000)\n",
      "141\n",
      "Data(x=[65157, 602], edge_index=[2, 100245], y=[65157], train_mask=[65157], val_mask=[65157], test_mask=[65157], batch_size=1000)\n",
      "142\n",
      "Data(x=[65201, 602], edge_index=[2, 99993], y=[65201], train_mask=[65201], val_mask=[65201], test_mask=[65201], batch_size=1000)\n",
      "143\n"
     ]
    },
    {
     "name": "stderr",
     "output_type": "stream",
     "text": [
      " 95%|████████████████████████████████████████████████████████████████████████████████████████████████████████████████████████████████████████████████████████████████████████████████████████████████████████████████████████████████████████████████▊             | 146/154 [00:12<00:00, 10.62it/s]"
     ]
    },
    {
     "name": "stdout",
     "output_type": "stream",
     "text": [
      "Data(x=[65646, 602], edge_index=[2, 100633], y=[65646], train_mask=[65646], val_mask=[65646], test_mask=[65646], batch_size=1000)\n",
      "144\n",
      "Data(x=[65720, 602], edge_index=[2, 100968], y=[65720], train_mask=[65720], val_mask=[65720], test_mask=[65720], batch_size=1000)\n",
      "145\n",
      "Data(x=[65460, 602], edge_index=[2, 100292], y=[65460], train_mask=[65460], val_mask=[65460], test_mask=[65460], batch_size=1000)\n",
      "146\n"
     ]
    },
    {
     "name": "stderr",
     "output_type": "stream",
     "text": [
      "\r",
      " 96%|████████████████████████████████████████████████████████████████████████████████████████████████████████████████████████████████████████████████████████████████████████████████████████████████████████████████████████████████████████████████████          | 148/154 [00:12<00:00, 10.21it/s]"
     ]
    },
    {
     "name": "stdout",
     "output_type": "stream",
     "text": [
      "Data(x=[64560, 602], edge_index=[2, 99836], y=[64560], train_mask=[64560], val_mask=[64560], test_mask=[64560], batch_size=1000)\n",
      "147\n",
      "Data(x=[65113, 602], edge_index=[2, 100061], y=[65113], train_mask=[65113], val_mask=[65113], test_mask=[65113], batch_size=1000)\n",
      "148\n"
     ]
    },
    {
     "name": "stderr",
     "output_type": "stream",
     "text": [
      "\r",
      " 97%|███████████████████████████████████████████████████████████████████████████████████████████████████████████████████████████████████████████████████████████████████████████████████████████████████████████████████████████████████████████████████████▍      | 150/154 [00:13<00:00,  8.84it/s]"
     ]
    },
    {
     "name": "stdout",
     "output_type": "stream",
     "text": [
      "Data(x=[65129, 602], edge_index=[2, 99800], y=[65129], train_mask=[65129], val_mask=[65129], test_mask=[65129], batch_size=1000)\n",
      "149\n",
      "Data(x=[64785, 602], edge_index=[2, 99399], y=[64785], train_mask=[64785], val_mask=[64785], test_mask=[64785], batch_size=1000)\n",
      "150\n"
     ]
    },
    {
     "name": "stderr",
     "output_type": "stream",
     "text": [
      " 99%|██████████████████████████████████████████████████████████████████████████████████████████████████████████████████████████████████████████████████████████████████████████████████████████████████████████████████████████████████████████████████████████▋   | 152/154 [00:13<00:00,  8.13it/s]"
     ]
    },
    {
     "name": "stdout",
     "output_type": "stream",
     "text": [
      "Data(x=[64964, 602], edge_index=[2, 100245], y=[64964], train_mask=[64964], val_mask=[64964], test_mask=[64964], batch_size=1000)\n",
      "151\n",
      "Data(x=[64543, 602], edge_index=[2, 99486], y=[64543], train_mask=[64543], val_mask=[64543], test_mask=[64543], batch_size=1000)\n",
      "152\n"
     ]
    },
    {
     "name": "stderr",
     "output_type": "stream",
     "text": [
      "100%|██████████████████████████████████████████████████████████████████████████████████████████████████████████████████████████████████████████████████████████████████████████████████████████████████████████████████████████████████████████████████████████████| 154/154 [00:13<00:00, 11.24it/s]"
     ]
    },
    {
     "name": "stdout",
     "output_type": "stream",
     "text": [
      "Data(x=[65361, 602], edge_index=[2, 100453], y=[65361], train_mask=[65361], val_mask=[65361], test_mask=[65361], batch_size=1000)\n",
      "153\n",
      "Data(x=[34738, 602], edge_index=[2, 44138], y=[34738], train_mask=[34738], val_mask=[34738], test_mask=[34738], batch_size=431)\n",
      "154\n"
     ]
    },
    {
     "name": "stderr",
     "output_type": "stream",
     "text": [
      "\n"
     ]
    }
   ],
   "source": [
    "from tqdm import tqdm\n",
    "\n",
    "batch_idx = 0\n",
    "for batch in tqdm(loader):\n",
    "    print(batch)\n",
    "    batch_idx +=1\n",
    "    print(batch_idx)"
   ]
  },
  {
   "cell_type": "code",
   "execution_count": 11,
   "id": "af63c556",
   "metadata": {},
   "outputs": [],
   "source": [
    "new_data = sampled_data"
   ]
  },
  {
   "cell_type": "code",
   "execution_count": 12,
   "id": "b38f9c95",
   "metadata": {},
   "outputs": [
    {
     "data": {
      "text/plain": [
       "Data(x=[26, 602], edge_index=[2, 24], y=[26], train_mask=[26], val_mask=[26], test_mask=[26], batch_size=2)"
      ]
     },
     "execution_count": 12,
     "metadata": {},
     "output_type": "execute_result"
    }
   ],
   "source": [
    "new_data"
   ]
  },
  {
   "cell_type": "code",
   "execution_count": 13,
   "id": "645ab5dd",
   "metadata": {},
   "outputs": [
    {
     "data": {
      "text/plain": [
       "17"
      ]
     },
     "execution_count": 13,
     "metadata": {},
     "output_type": "execute_result"
    }
   ],
   "source": [
    "len(new_data.train_mask[new_data.train_mask==True])"
   ]
  },
  {
   "cell_type": "code",
   "execution_count": 25,
   "id": "39c15df1",
   "metadata": {},
   "outputs": [
    {
     "data": {
      "text/plain": [
       "7"
      ]
     },
     "execution_count": 25,
     "metadata": {},
     "output_type": "execute_result"
    }
   ],
   "source": [
    "len(loader)"
   ]
  },
  {
   "cell_type": "code",
   "execution_count": 23,
   "id": "d21e979f",
   "metadata": {},
   "outputs": [],
   "source": [
    "loader = NeighborLoader(\n",
    "    new_data,\n",
    "    # Sample 30 neighbors for each node for 2 iterations\n",
    "    num_neighbors=[3] * 2,\n",
    "    # Use a batch size of 128 for sampling training nodes\n",
    "    batch_size=4,\n",
    "    #input_nodes=new_data.train_mask,\n",
    "    shuffle=True\n",
    ")\n"
   ]
  },
  {
   "cell_type": "code",
   "execution_count": 24,
   "id": "9a8efe55",
   "metadata": {},
   "outputs": [
    {
     "name": "stdout",
     "output_type": "stream",
     "text": [
      "Data(x=[4, 602], edge_index=[2, 0], y=[4], train_mask=[4], val_mask=[4], test_mask=[4], batch_size=4)\n"
     ]
    },
    {
     "data": {
      "image/png": "[encoded data removed]",
      "text/plain": [
       "<Figure size 432x288 with 1 Axes>"
      ]
     },
     "metadata": {},
     "output_type": "display_data"
    }
   ],
   "source": [
    "sampled_data = next(iter(loader))\n",
    "print(sampled_data)\n",
    "g = to_networkx(sampled_data)\n",
    "nx.draw(g, with_labels=True)"
   ]
  },
  {
   "cell_type": "code",
   "execution_count": 20,
   "id": "c2874176",
   "metadata": {},
   "outputs": [
    {
     "name": "stdout",
     "output_type": "stream",
     "text": [
      "Data(x=[4, 602], edge_index=[2, 0], y=[4], train_mask=[4], val_mask=[4], test_mask=[4], batch_size=4)\n"
     ]
    },
    {
     "data": {
      "image/png": "[encoded data removed]",
      "text/plain": [
       "<Figure size 432x288 with 1 Axes>"
      ]
     },
     "metadata": {},
     "output_type": "display_data"
    },
    {
     "name": "stdout",
     "output_type": "stream",
     "text": [
      "Data(x=[9, 602], edge_index=[2, 6], y=[9], train_mask=[9], val_mask=[9], test_mask=[9], batch_size=4)\n"
     ]
    },
    {
     "data": {
      "text/plain": [
       "<Figure size 432x288 with 0 Axes>"
      ]
     },
     "metadata": {},
     "output_type": "display_data"
    },
    {
     "data": {
      "image/png": "[encoded data removed]",
      "text/plain": [
       "<Figure size 432x288 with 1 Axes>"
      ]
     },
     "metadata": {},
     "output_type": "display_data"
    },
    {
     "name": "stdout",
     "output_type": "stream",
     "text": [
      "Data(x=[6, 602], edge_index=[2, 3], y=[6], train_mask=[6], val_mask=[6], test_mask=[6], batch_size=4)\n"
     ]
    },
    {
     "data": {
      "text/plain": [
       "<Figure size 432x288 with 0 Axes>"
      ]
     },
     "metadata": {},
     "output_type": "display_data"
    },
    {
     "data": {
      "image/png": "[encoded data removed]",
      "text/plain": [
       "<Figure size 432x288 with 1 Axes>"
      ]
     },
     "metadata": {},
     "output_type": "display_data"
    },
    {
     "name": "stdout",
     "output_type": "stream",
     "text": [
      "Data(x=[4, 602], edge_index=[2, 0], y=[4], train_mask=[4], val_mask=[4], test_mask=[4], batch_size=4)\n"
     ]
    },
    {
     "data": {
      "text/plain": [
       "<Figure size 432x288 with 0 Axes>"
      ]
     },
     "metadata": {},
     "output_type": "display_data"
    },
    {
     "data": {
      "image/png": "[encoded data removed]",
      "text/plain": [
       "<Figure size 432x288 with 1 Axes>"
      ]
     },
     "metadata": {},
     "output_type": "display_data"
    },
    {
     "name": "stdout",
     "output_type": "stream",
     "text": [
      "Data(x=[8, 602], edge_index=[2, 6], y=[8], train_mask=[8], val_mask=[8], test_mask=[8], batch_size=4)\n"
     ]
    },
    {
     "data": {
      "text/plain": [
       "<Figure size 432x288 with 0 Axes>"
      ]
     },
     "metadata": {},
     "output_type": "display_data"
    },
    {
     "data": {
      "image/png": "[encoded data removed]",
      "text/plain": [
       "<Figure size 432x288 with 1 Axes>"
      ]
     },
     "metadata": {},
     "output_type": "display_data"
    },
    {
     "name": "stdout",
     "output_type": "stream",
     "text": [
      "Data(x=[15, 602], edge_index=[2, 12], y=[15], train_mask=[15], val_mask=[15], test_mask=[15], batch_size=4)\n"
     ]
    },
    {
     "data": {
      "text/plain": [
       "<Figure size 432x288 with 0 Axes>"
      ]
     },
     "metadata": {},
     "output_type": "display_data"
    },
    {
     "data": {
      "image/png": "[encoded data removed]",
      "text/plain": [
       "<Figure size 432x288 with 1 Axes>"
      ]
     },
     "metadata": {},
     "output_type": "display_data"
    },
    {
     "name": "stdout",
     "output_type": "stream",
     "text": [
      "Data(x=[17, 602], edge_index=[2, 15], y=[17], train_mask=[17], val_mask=[17], test_mask=[17], batch_size=2)\n"
     ]
    },
    {
     "data": {
      "text/plain": [
       "<Figure size 432x288 with 0 Axes>"
      ]
     },
     "metadata": {},
     "output_type": "display_data"
    },
    {
     "data": {
      "image/png": "[encoded data removed]",
      "text/plain": [
       "<Figure size 432x288 with 1 Axes>"
      ]
     },
     "metadata": {},
     "output_type": "display_data"
    },
    {
     "data": {
      "text/plain": [
       "<Figure size 432x288 with 0 Axes>"
      ]
     },
     "metadata": {},
     "output_type": "display_data"
    }
   ],
   "source": [
    "import matplotlib.pyplot as plt \n",
    "\n",
    "for sampled_data in loader: \n",
    "    print(sampled_data)\n",
    "    g = to_networkx(sampled_data)\n",
    "    plt.figure()\n",
    "    nx.draw(g, with_labels=True)\n",
    "    plt.show()\n",
    "    plt.clf()"
   ]
  },
  {
   "cell_type": "code",
   "execution_count": 21,
   "id": "d8048f84",
   "metadata": {},
   "outputs": [
    {
     "data": {
      "image/png": "[encoded data removed]",
      "text/plain": [
       "<Figure size 432x288 with 1 Axes>"
      ]
     },
     "metadata": {},
     "output_type": "display_data"
    }
   ],
   "source": [
    "g = to_networkx(new_data)\n",
    "nx.draw(g, with_labels=True)"
   ]
  },
  {
   "cell_type": "code",
   "execution_count": 89,
   "id": "0b3feb31",
   "metadata": {},
   "outputs": [
    {
     "name": "stderr",
     "output_type": "stream",
     "text": [
      "Compute GraphSAINT normalization: : 10428it [01:12, 143.54it/s]                                                                                                                                                                                                                                      \n"
     ]
    }
   ],
   "source": [
    "from torch_geometric.loader import GraphSAINTRandomWalkSampler\n",
    "\n",
    "loader = GraphSAINTRandomWalkSampler(new_data, batch_size=6, walk_length=2,\n",
    "                                     num_steps=5, sample_coverage=100,\n",
    "                                     num_workers=4)"
   ]
  },
  {
   "cell_type": "code",
   "execution_count": 90,
   "id": "05f2b65f",
   "metadata": {},
   "outputs": [
    {
     "name": "stdout",
     "output_type": "stream",
     "text": [
      "Data(num_nodes=13, edge_index=[2, 13], x=[13, 602], y=[13], train_mask=[13], val_mask=[13], test_mask=[13], batch_size=1, node_norm=[13], edge_norm=[13])\n"
     ]
    },
    {
     "data": {
      "image/png": "[encoded data removed]",
      "text/plain": [
       "<Figure size 432x288 with 1 Axes>"
      ]
     },
     "metadata": {},
     "output_type": "display_data"
    },
    {
     "name": "stderr",
     "output_type": "stream",
     "text": [
      "Exception in thread QueueFeederThread:\n",
      "Traceback (most recent call last):\n",
      "  File \"/cluster/apps/nss/gcc-8.2.0/python/3.8.5/x86_64/lib64/python3.8/multiprocessing/queues.py\", line 235, in _feed\n",
      "    close()\n",
      "  File \"/cluster/apps/nss/gcc-8.2.0/python/3.8.5/x86_64/lib64/python3.8/multiprocessing/connection.py\", line 177, in close\n",
      "    self._close()\n",
      "  File \"/cluster/apps/nss/gcc-8.2.0/python/3.8.5/x86_64/lib64/python3.8/multiprocessing/connection.py\", line 361, in _close\n",
      "    _close(self._handle)\n",
      "OSError: [Errno 9] Bad file descriptor\n",
      "\n",
      "During handling of the above exception, another exception occurred:\n",
      "\n",
      "Traceback (most recent call last):\n",
      "  File \"/cluster/apps/nss/gcc-8.2.0/python/3.8.5/x86_64/lib64/python3.8/threading.py\", line 932, in _bootstrap_inner\n",
      "    self.run()\n",
      "  File \"/cluster/apps/nss/gcc-8.2.0/python/3.8.5/x86_64/lib64/python3.8/threading.py\", line 870, in run\n",
      "    self._target(*self._args, **self._kwargs)\n",
      "  File \"/cluster/apps/nss/gcc-8.2.0/python/3.8.5/x86_64/lib64/python3.8/multiprocessing/queues.py\", line 266, in _feed\n",
      "    queue_sem.release()\n",
      "ValueError: semaphore or lock released too many times\n"
     ]
    },
    {
     "name": "stdout",
     "output_type": "stream",
     "text": [
      "Data(num_nodes=11, edge_index=[2, 10], x=[11, 602], y=[11], train_mask=[11], val_mask=[11], test_mask=[11], batch_size=1, node_norm=[11], edge_norm=[10])\n"
     ]
    },
    {
     "data": {
      "text/plain": [
       "<Figure size 432x288 with 0 Axes>"
      ]
     },
     "metadata": {},
     "output_type": "display_data"
    },
    {
     "data": {
      "image/png": "[encoded data removed]",
      "text/plain": [
       "<Figure size 432x288 with 1 Axes>"
      ]
     },
     "metadata": {},
     "output_type": "display_data"
    },
    {
     "name": "stdout",
     "output_type": "stream",
     "text": [
      "Data(num_nodes=13, edge_index=[2, 14], x=[13, 602], y=[13], train_mask=[13], val_mask=[13], test_mask=[13], batch_size=1, node_norm=[13], edge_norm=[14])\n"
     ]
    },
    {
     "data": {
      "text/plain": [
       "<Figure size 432x288 with 0 Axes>"
      ]
     },
     "metadata": {},
     "output_type": "display_data"
    },
    {
     "data": {
      "image/png": "[encoded data removed]",
      "text/plain": [
       "<Figure size 432x288 with 1 Axes>"
      ]
     },
     "metadata": {},
     "output_type": "display_data"
    },
    {
     "name": "stdout",
     "output_type": "stream",
     "text": [
      "Data(num_nodes=12, edge_index=[2, 12], x=[12, 602], y=[12], train_mask=[12], val_mask=[12], test_mask=[12], batch_size=1, node_norm=[12], edge_norm=[12])\n"
     ]
    },
    {
     "data": {
      "text/plain": [
       "<Figure size 432x288 with 0 Axes>"
      ]
     },
     "metadata": {},
     "output_type": "display_data"
    },
    {
     "data": {
      "image/png": "[encoded data removed]",
      "text/plain": [
       "<Figure size 432x288 with 1 Axes>"
      ]
     },
     "metadata": {},
     "output_type": "display_data"
    },
    {
     "name": "stdout",
     "output_type": "stream",
     "text": [
      "Data(num_nodes=11, edge_index=[2, 11], x=[11, 602], y=[11], train_mask=[11], val_mask=[11], test_mask=[11], batch_size=1, node_norm=[11], edge_norm=[11])\n"
     ]
    },
    {
     "data": {
      "text/plain": [
       "<Figure size 432x288 with 0 Axes>"
      ]
     },
     "metadata": {},
     "output_type": "display_data"
    },
    {
     "data": {
      "image/png": "[encoded data removed]",
      "text/plain": [
       "<Figure size 432x288 with 1 Axes>"
      ]
     },
     "metadata": {},
     "output_type": "display_data"
    },
    {
     "data": {
      "text/plain": [
       "<Figure size 432x288 with 0 Axes>"
      ]
     },
     "metadata": {},
     "output_type": "display_data"
    }
   ],
   "source": [
    "for sampled_data in loader: \n",
    "    print(sampled_data)\n",
    "    g = to_networkx(sampled_data)\n",
    "    plt.figure()\n",
    "    nx.draw(g, with_labels=True)\n",
    "    plt.show()\n",
    "    plt.clf()"
   ]
  },
  {
   "cell_type": "code",
   "execution_count": 88,
   "id": "0d361dc3",
   "metadata": {},
   "outputs": [
    {
     "data": {
      "text/plain": [
       "Data(x=[104, 602], edge_index=[2, 110], y=[104], train_mask=[104], val_mask=[104], test_mask=[104], batch_size=1)"
      ]
     },
     "execution_count": 88,
     "metadata": {},
     "output_type": "execute_result"
    }
   ],
   "source": [
    "new_data"
   ]
  },
  {
   "cell_type": "markdown",
   "id": "190fd8e3",
   "metadata": {},
   "source": [
    "## Facebook"
   ]
  },
  {
   "cell_type": "code",
   "execution_count": 39,
   "id": "5445fc12",
   "metadata": {},
   "outputs": [
    {
     "name": "stderr",
     "output_type": "stream",
     "text": [
      "Downloading https://graphmining.ai/datasets/ptg/facebook.npz\n",
      "Processing...\n",
      "Done!\n"
     ]
    }
   ],
   "source": [
    "data_dir = '/cluster/home/kamara/Explain/data/facebook'\n",
    "data = FacebookPagePage(data_dir)"
   ]
  },
  {
   "cell_type": "code",
   "execution_count": 3,
   "id": "5afe14f7",
   "metadata": {},
   "outputs": [],
   "source": [
    "data_filename = '/cluster/home/kamara/Explain/data/facebook/processed/data.pt'\n",
    "data, _ = torch.load(data_filename)"
   ]
  },
  {
   "cell_type": "code",
   "execution_count": 4,
   "id": "06ad7243",
   "metadata": {},
   "outputs": [
    {
     "data": {
      "text/plain": [
       "Data(x=[22470, 128], edge_index=[2, 342004], y=[22470])"
      ]
     },
     "execution_count": 4,
     "metadata": {},
     "output_type": "execute_result"
    }
   ],
   "source": [
    "data"
   ]
  },
  {
   "cell_type": "code",
   "execution_count": null,
   "id": "5eaa6adc",
   "metadata": {},
   "outputs": [],
   "source": [
    "split_data(data, args)"
   ]
  },
  {
   "cell_type": "code",
   "execution_count": null,
   "id": "f3d7dee3",
   "metadata": {},
   "outputs": [],
   "source": [
    "preprocess_planetoid(data)"
   ]
  },
  {
   "cell_type": "markdown",
   "id": "9be609b3",
   "metadata": {},
   "source": [
    "## Cora"
   ]
  },
  {
   "cell_type": "code",
   "execution_count": 33,
   "id": "b95ef110",
   "metadata": {},
   "outputs": [
    {
     "name": "stdout",
     "output_type": "stream",
     "text": [
      "Dataset: Cora():\n",
      "======================\n",
      "Number of graphs: 1\n",
      "Number of features: 1433\n",
      "Number of classes: 7\n",
      "Number of nodes: 2708\n",
      "Number of edges: 10556\n",
      "Average node degree: 3.90\n",
      "Number of training nodes: 140\n",
      "Training node label rate: 0.05\n",
      "Contains isolated nodes: False\n",
      "Contains self-loops: False\n",
      "Is undirected: True\n"
     ]
    },
    {
     "name": "stderr",
     "output_type": "stream",
     "text": [
      "/cluster/home/kamara/.local/lib/python3.8/site-packages/torch_geometric/deprecation.py:13: UserWarning: 'contains_isolated_nodes' is deprecated, use 'has_isolated_nodes' instead\n",
      "  warnings.warn(out)\n",
      "/cluster/home/kamara/.local/lib/python3.8/site-packages/torch_geometric/deprecation.py:13: UserWarning: 'contains_self_loops' is deprecated, use 'has_self_loops' instead\n",
      "  warnings.warn(out)\n"
     ]
    }
   ],
   "source": [
    "from torch_geometric.datasets import Planetoid\n",
    "dataset = Planetoid(root='/cluster/home/kamara/Explain/data', name='Cora')\n",
    "\n",
    "data = dataset[0]\n",
    "print(f'Dataset: {dataset}:')\n",
    "print('======================')\n",
    "print(f'Number of graphs: {len(dataset)}')\n",
    "print(f'Number of features: {dataset.num_features}')\n",
    "print(f'Number of classes: {dataset.num_classes}')\n",
    "\n",
    "print(f'Number of nodes: {data.num_nodes}')\n",
    "print(f'Number of edges: {data.num_edges}')\n",
    "print(f'Average node degree: {data.num_edges / data.num_nodes:.2f}')\n",
    "print(f'Number of training nodes: {data.train_mask.sum()}')\n",
    "print(f'Training node label rate: {int(data.train_mask.sum()) / data.num_nodes:.2f}')\n",
    "print(f'Contains isolated nodes: {data.contains_isolated_nodes()}')\n",
    "print(f'Contains self-loops: {data.contains_self_loops()}')\n",
    "print(f'Is undirected: {data.is_undirected()}')"
   ]
  },
  {
   "cell_type": "code",
   "execution_count": 50,
   "id": "38dfd745",
   "metadata": {},
   "outputs": [
    {
     "name": "stderr",
     "output_type": "stream",
     "text": [
      "Downloading https://github.com/kimiyoung/planetoid/raw/master/data/ind.cora.x\n",
      "Downloading https://github.com/kimiyoung/planetoid/raw/master/data/ind.cora.tx\n",
      "Downloading https://github.com/kimiyoung/planetoid/raw/master/data/ind.cora.allx\n",
      "Downloading https://github.com/kimiyoung/planetoid/raw/master/data/ind.cora.y\n",
      "Downloading https://github.com/kimiyoung/planetoid/raw/master/data/ind.cora.ty\n",
      "Downloading https://github.com/kimiyoung/planetoid/raw/master/data/ind.cora.ally\n",
      "Downloading https://github.com/kimiyoung/planetoid/raw/master/data/ind.cora.graph\n",
      "Downloading https://github.com/kimiyoung/planetoid/raw/master/data/ind.cora.test.index\n",
      "Processing...\n",
      "Done!\n"
     ]
    }
   ],
   "source": [
    "data_dir = '/cluster/home/kamara/Explain/data'\n",
    "data = Planetoid(data_dir, \"Cora\")"
   ]
  },
  {
   "cell_type": "code",
   "execution_count": 3,
   "id": "2bc55cb3",
   "metadata": {},
   "outputs": [],
   "source": [
    "data_filename = '/cluster/home/kamara/Explain/data/Cora/processed/data.pt'\n",
    "data, _ = torch.load(data_filename)"
   ]
  },
  {
   "cell_type": "code",
   "execution_count": 5,
   "id": "b779bbc4",
   "metadata": {
    "scrolled": true
   },
   "outputs": [],
   "source": [
    "data.edge_attr"
   ]
  },
  {
   "cell_type": "code",
   "execution_count": 5,
   "id": "040c6516",
   "metadata": {},
   "outputs": [
    {
     "data": {
      "text/plain": [
       "500"
      ]
     },
     "execution_count": 5,
     "metadata": {},
     "output_type": "execute_result"
    }
   ],
   "source": [
    "len(data.val_mask[data.val_mask==True])"
   ]
  },
  {
   "cell_type": "code",
   "execution_count": 6,
   "id": "024eebdc",
   "metadata": {},
   "outputs": [
    {
     "data": {
      "text/plain": [
       "1000"
      ]
     },
     "execution_count": 6,
     "metadata": {},
     "output_type": "execute_result"
    }
   ],
   "source": [
    "len(data.test_mask[data.test_mask==True])"
   ]
  },
  {
   "cell_type": "code",
   "execution_count": 11,
   "id": "2e12ef14",
   "metadata": {},
   "outputs": [
    {
     "data": {
      "text/plain": [
       "tensor([[   0,    0,    0,  ..., 2707, 2707, 2707],\n",
       "        [ 633, 1862, 2582,  ...,  598, 1473, 2706]])"
      ]
     },
     "execution_count": 11,
     "metadata": {},
     "output_type": "execute_result"
    }
   ],
   "source": [
    "data.edge_index"
   ]
  },
  {
   "cell_type": "code",
   "execution_count": 8,
   "id": "987f4a36",
   "metadata": {},
   "outputs": [
    {
     "data": {
      "image/png": "[encoded data removed]",
      "text/plain": [
       "<Figure size 432x288 with 1 Axes>"
      ]
     },
     "metadata": {},
     "output_type": "display_data"
    }
   ],
   "source": [
    "import networkx as nx\n",
    "from torch_geometric.utils import to_networkx\n",
    "\n",
    "G = to_networkx(data, to_undirected=True)\n",
    "labels = data.y\n",
    "pos = nx.spring_layout(G)\n",
    "nx.draw(G, pos, cmap=plt.get_cmap('tab10'), node_color=labels, with_labels=True, font_weight='bold')"
   ]
  },
  {
   "cell_type": "code",
   "execution_count": 29,
   "id": "47ff6e47",
   "metadata": {},
   "outputs": [],
   "source": [
    "import numpy as np\n",
    "import scipy.sparse as sp\n",
    "import torch\n",
    "\n",
    "\n",
    "def encode_onehot(labels):\n",
    "    classes = set(labels)\n",
    "    classes_dict = {c: np.identity(len(classes))[i, :] for i, c in\n",
    "                    enumerate(classes)}\n",
    "    labels_onehot = np.array(list(map(classes_dict.get, labels)),\n",
    "                             dtype=np.int32)\n",
    "    return labels_onehot\n",
    "\n",
    "def load_data(path=\"../data/cora/\", dataset=\"cora\"):\n",
    "   \n",
    "    print('Loading {} dataset...'.format(dataset))\n",
    "\n",
    "    idx_features_labels = np.genfromtxt(\"{}{}.content\".format(path, dataset),\n",
    "                                        dtype=np.dtype(str))\n",
    "    \n",
    "    print('idx_features_labels', idx_features_labels)\n",
    "    features = sp.csr_matrix(idx_features_labels[:, 1:-1], dtype=np.float32)\n",
    "    labels = encode_onehot(idx_features_labels[:, -1])\n",
    "\n",
    "    # build graph\n",
    "    idx = np.array(idx_features_labels[:, 0], dtype=np.int32)\n",
    "    idx_map = {j: i for i, j in enumerate(idx)}\n",
    "    edges_unordered = np.genfromtxt(\"{}{}.cites\".format(path, dataset),\n",
    "                                    dtype=np.int32)\n",
    "    edges = np.array(list(map(idx_map.get, edges_unordered.flatten())),\n",
    "                     dtype=np.int32).reshape(edges_unordered.shape)\n",
    "    print('edges', edges)\n",
    "    print('data.edge_index', data.edge_index)\n",
    "    adj = sp.coo_matrix((np.ones(edges.shape[0]), (edges[:, 0], edges[:, 1])),\n",
    "                        shape=(labels.shape[0], labels.shape[0]),\n",
    "                        dtype=np.float32)\n",
    "\n",
    "    # build symmetric adjacency matrix\n",
    "    adj = adj + adj.T.multiply(adj.T > adj) - adj.multiply(adj.T > adj)\n",
    "\n",
    "    features = normalize(features)\n",
    "    print('features', features)\n",
    "    adj = normalize(adj + sp.eye(adj.shape[0]))\n",
    "\n",
    "    idx_train = range(140)\n",
    "    idx_val = range(200, 500)\n",
    "    idx_test = range(500, 1500)\n",
    "\n",
    "    features = torch.FloatTensor(np.array(features.todense()))\n",
    "    labels = torch.LongTensor(np.where(labels)[1])\n",
    "    adj = sparse_mx_to_torch_sparse_tensor(adj)\n",
    "\n",
    "    idx_train = torch.LongTensor(idx_train)\n",
    "    idx_val = torch.LongTensor(idx_val)\n",
    "    idx_test = torch.LongTensor(idx_test)\n",
    "\n",
    "    return adj, features, labels, idx_train, idx_val, idx_test\n",
    "\n",
    "\n",
    "def normalize(mx):\n",
    "    \"\"\"Row-normalize sparse matrix\"\"\"\n",
    "    rowsum = np.array(mx.sum(1))\n",
    "    r_inv = np.power(rowsum, -1).flatten()\n",
    "    r_inv[np.isinf(r_inv)] = 0.\n",
    "    r_mat_inv = sp.diags(r_inv)\n",
    "    mx = r_mat_inv.dot(mx)\n",
    "    return mx\n",
    "\n",
    "\n",
    "def accuracy(output, labels):\n",
    "    preds = output.max(1)[1].type_as(labels)\n",
    "    correct = preds.eq(labels).double()\n",
    "    correct = correct.sum()\n",
    "    return correct / len(labels)\n",
    "\n",
    "\n",
    "def sparse_mx_to_torch_sparse_tensor(sparse_mx):\n",
    "    \"\"\"Convert a scipy sparse matrix to a torch sparse tensor.\"\"\"\n",
    "    sparse_mx = sparse_mx.tocoo().astype(np.float32)\n",
    "    indices = torch.from_numpy(\n",
    "        np.vstack((sparse_mx.row, sparse_mx.col)).astype(np.int64))\n",
    "    values = torch.from_numpy(sparse_mx.data)\n",
    "    shape = torch.Size(sparse_mx.shape)\n",
    "    return torch.sparse.FloatTensor(indices, values, shape)\n"
   ]
  },
  {
   "cell_type": "code",
   "execution_count": 28,
   "id": "0c708389",
   "metadata": {},
   "outputs": [
    {
     "data": {
      "text/plain": [
       "tensor(indices=tensor([[   0,    1,    2,  ..., 2705, 2706, 2707],\n",
       "                       [   0,    1,    2,  ..., 2705, 2706, 2707]]),\n",
       "       values=tensor([1., 1., 1.,  ..., 1., 1., 1.]),\n",
       "       size=(2708, 2708), nnz=2710, layout=torch.sparse_coo)"
      ]
     },
     "execution_count": 28,
     "metadata": {},
     "output_type": "execute_result"
    }
   ],
   "source": [
    "edges = data.edge_index\n",
    "\n",
    "adj0 = sp.coo_matrix((np.ones(edges.shape[0]), (edges[:, 0], edges[:, 1])),\n",
    "                        shape=(labels.shape[0], labels.shape[0]),\n",
    "                        dtype=np.float32)\n",
    "\n",
    "# build symmetric adjacency matrix\n",
    "adj0 = adj0 + adj0.T.multiply(adj0.T > adj0) - adj0.multiply(adj0.T > adj0)\n",
    "adj0 = normalize(adj0 + sp.eye(adj0.shape[0]))\n",
    "adj0 = sparse_mx_to_torch_sparse_tensor(adj0)\n",
    "adj0"
   ]
  },
  {
   "cell_type": "code",
   "execution_count": 26,
   "id": "aa866027",
   "metadata": {},
   "outputs": [
    {
     "data": {
      "text/plain": [
       "tensor(indices=tensor([[   0,    8,   14,  ..., 1389, 2344, 2707],\n",
       "                       [   0,    0,    0,  ..., 2707, 2707, 2707]]),\n",
       "       values=tensor([0.1667, 0.1667, 0.0500,  ..., 0.2000, 0.5000, 0.2500]),\n",
       "       size=(2708, 2708), nnz=13264, layout=torch.sparse_coo)"
      ]
     },
     "execution_count": 26,
     "metadata": {},
     "output_type": "execute_result"
    }
   ],
   "source": [
    "adj"
   ]
  },
  {
   "cell_type": "code",
   "execution_count": 40,
   "id": "097797fa",
   "metadata": {},
   "outputs": [
    {
     "data": {
      "text/plain": [
       "(array([0, 2, 3]),)"
      ]
     },
     "execution_count": 40,
     "metadata": {},
     "output_type": "execute_result"
    }
   ],
   "source": [
    "a = np.array([9,0,7,0.4])\n",
    "b = np.array([8,0,3,0.3])\n",
    "np.where(a!=b)"
   ]
  },
  {
   "cell_type": "code",
   "execution_count": 46,
   "id": "c273fc4d",
   "metadata": {},
   "outputs": [
    {
     "data": {
      "text/plain": [
       "array([ 19,  81, 118, 125, 146, 176, 252, 315, 351, 456, 507, 521, 619,\n",
       "       648, 698])"
      ]
     },
     "execution_count": 46,
     "metadata": {},
     "output_type": "execute_result"
    }
   ],
   "source": [
    "np.where(data.x != features)[1][:15]"
   ]
  },
  {
   "cell_type": "code",
   "execution_count": 42,
   "id": "eff1183e",
   "metadata": {},
   "outputs": [
    {
     "data": {
      "text/plain": [
       "(array([  19,   81,  118,  125,  146,  176,  252,  315,  351,  456,  507,\n",
       "         521,  619,  648,  698,  702,  734,  774,  845,  877,  902, 1194,\n",
       "        1205, 1209, 1236, 1247, 1274, 1352, 1426]),)"
      ]
     },
     "execution_count": 42,
     "metadata": {},
     "output_type": "execute_result"
    }
   ],
   "source": [
    "np.where(data.x[0] != features[0])"
   ]
  },
  {
   "cell_type": "code",
   "execution_count": 30,
   "id": "ecc9350e",
   "metadata": {},
   "outputs": [
    {
     "name": "stdout",
     "output_type": "stream",
     "text": [
      "Loading cora dataset...\n",
      "idx_features_labels [['31336' '0' '0' ... '0' '0' 'Neural_Networks']\n",
      " ['1061127' '0' '0' ... '0' '0' 'Rule_Learning']\n",
      " ['1106406' '0' '0' ... '0' '0' 'Reinforcement_Learning']\n",
      " ...\n",
      " ['1128978' '0' '0' ... '0' '0' 'Genetic_Algorithms']\n",
      " ['117328' '0' '0' ... '0' '0' 'Case_Based']\n",
      " ['24043' '0' '0' ... '0' '0' 'Neural_Networks']]\n",
      "edges [[ 163  402]\n",
      " [ 163  659]\n",
      " [ 163 1696]\n",
      " ...\n",
      " [1887 2258]\n",
      " [1902 1887]\n",
      " [ 837 1686]]\n",
      "data.edge_index tensor([[   0,    0,    0,  ..., 2707, 2707, 2707],\n",
      "        [ 633, 1862, 2582,  ...,  598, 1473, 2706]])\n",
      "features   (0, 1426)\t0.05\n",
      "  (0, 1352)\t0.05\n",
      "  (0, 1236)\t0.05\n",
      "  (0, 1209)\t0.05\n",
      "  (0, 1205)\t0.05\n",
      "  (0, 902)\t0.05\n",
      "  (0, 845)\t0.05\n",
      "  (0, 734)\t0.05\n",
      "  (0, 702)\t0.05\n",
      "  (0, 698)\t0.05\n",
      "  (0, 648)\t0.05\n",
      "  (0, 619)\t0.05\n",
      "  (0, 521)\t0.05\n",
      "  (0, 507)\t0.05\n",
      "  (0, 456)\t0.05\n",
      "  (0, 351)\t0.05\n",
      "  (0, 252)\t0.05\n",
      "  (0, 176)\t0.05\n",
      "  (0, 125)\t0.05\n",
      "  (0, 118)\t0.05\n",
      "  (1, 1425)\t0.05882353\n",
      "  (1, 1389)\t0.05882353\n",
      "  (1, 1332)\t0.05882353\n",
      "  (1, 1266)\t0.05882353\n",
      "  (1, 1263)\t0.05882353\n",
      "  :\t:\n",
      "  (2706, 475)\t0.05263158\n",
      "  (2706, 287)\t0.05263158\n",
      "  (2706, 132)\t0.05263158\n",
      "  (2706, 54)\t0.05263158\n",
      "  (2706, 48)\t0.05263158\n",
      "  (2706, 4)\t0.05263158\n",
      "  (2707, 1351)\t0.05263158\n",
      "  (2707, 1335)\t0.05263158\n",
      "  (2707, 1333)\t0.05263158\n",
      "  (2707, 1301)\t0.05263158\n",
      "  (2707, 1205)\t0.05263158\n",
      "  (2707, 1203)\t0.05263158\n",
      "  (2707, 1178)\t0.05263158\n",
      "  (2707, 1156)\t0.05263158\n",
      "  (2707, 1075)\t0.05263158\n",
      "  (2707, 1073)\t0.05263158\n",
      "  (2707, 877)\t0.05263158\n",
      "  (2707, 774)\t0.05263158\n",
      "  (2707, 737)\t0.05263158\n",
      "  (2707, 564)\t0.05263158\n",
      "  (2707, 422)\t0.05263158\n",
      "  (2707, 304)\t0.05263158\n",
      "  (2707, 136)\t0.05263158\n",
      "  (2707, 67)\t0.05263158\n",
      "  (2707, 19)\t0.05263158\n"
     ]
    }
   ],
   "source": [
    "adj, features, labels, idx_train, idx_val, idx_test = load_data()"
   ]
  },
  {
   "cell_type": "code",
   "execution_count": 5,
   "id": "8594c113",
   "metadata": {},
   "outputs": [
    {
     "name": "stderr",
     "output_type": "stream",
     "text": [
      "Computing METIS partitioning...\n",
      "Done!\n"
     ]
    }
   ],
   "source": [
    "cluster_data = ClusterData(data, num_parts=5, recursive=False,\n",
    "                           save_dir='/cluster/home/kamara/Explain/data/Cora/processed')\n"
   ]
  },
  {
   "cell_type": "code",
   "execution_count": 9,
   "id": "48b4eda2",
   "metadata": {},
   "outputs": [],
   "source": [
    "train_loader = ClusterLoader(cluster_data, batch_size=1, shuffle=True,\n",
    "                             num_workers=12)\n",
    "\n",
    "subgraph_loader = NeighborSampler(data.edge_index, sizes=[-1], batch_size=1024,\n",
    "                                  shuffle=False, num_workers=12)"
   ]
  },
  {
   "cell_type": "code",
   "execution_count": 10,
   "id": "0ddde37c",
   "metadata": {},
   "outputs": [
    {
     "name": "stdout",
     "output_type": "stream",
     "text": [
      "Data(x=[178, 1433], y=[178], train_mask=[178], val_mask=[178], test_mask=[178], edge_index=[2, 628])\n",
      "Data(x=[183, 1433], y=[183], train_mask=[183], val_mask=[183], test_mask=[183], edge_index=[2, 566])\n",
      "Data(x=[185, 1433], y=[185], train_mask=[185], val_mask=[185], test_mask=[185], edge_index=[2, 756])\n",
      "Data(x=[185, 1433], y=[185], train_mask=[185], val_mask=[185], test_mask=[185], edge_index=[2, 836])\n",
      "Data(x=[179, 1433], y=[179], train_mask=[179], val_mask=[179], test_mask=[179], edge_index=[2, 588])\n",
      "Data(x=[183, 1433], y=[183], train_mask=[183], val_mask=[183], test_mask=[183], edge_index=[2, 442])\n",
      "Data(x=[179, 1433], y=[179], train_mask=[179], val_mask=[179], test_mask=[179], edge_index=[2, 490])\n",
      "Data(x=[181, 1433], y=[181], train_mask=[181], val_mask=[181], test_mask=[181], edge_index=[2, 616])\n",
      "Data(x=[179, 1433], y=[179], train_mask=[179], val_mask=[179], test_mask=[179], edge_index=[2, 598])\n",
      "Data(x=[178, 1433], y=[178], train_mask=[178], val_mask=[178], test_mask=[178], edge_index=[2, 536])\n",
      "Data(x=[175, 1433], y=[175], train_mask=[175], val_mask=[175], test_mask=[175], edge_index=[2, 588])\n",
      "Data(x=[185, 1433], y=[185], train_mask=[185], val_mask=[185], test_mask=[185], edge_index=[2, 682])\n",
      "Data(x=[178, 1433], y=[178], train_mask=[178], val_mask=[178], test_mask=[178], edge_index=[2, 558])\n",
      "Data(x=[182, 1433], y=[182], train_mask=[182], val_mask=[182], test_mask=[182], edge_index=[2, 682])\n",
      "Data(x=[178, 1433], y=[178], train_mask=[178], val_mask=[178], test_mask=[178], edge_index=[2, 580])\n"
     ]
    }
   ],
   "source": [
    "for data_sampled in train_loader:\n",
    "    print(data_sampled)"
   ]
  },
  {
   "cell_type": "code",
   "execution_count": null,
   "id": "a09f7b35",
   "metadata": {},
   "outputs": [],
   "source": [
    "val_loader = DataLoader(val_dataset, batch_size=2, shuffle=False)\n",
    "test_loader = DataLoader(test_dataset, batch_size=2, shuffle=False)"
   ]
  },
  {
   "cell_type": "markdown",
   "id": "55ba653a",
   "metadata": {},
   "source": [
    "## PubMed"
   ]
  },
  {
   "cell_type": "code",
   "execution_count": 53,
   "id": "5df7b523",
   "metadata": {},
   "outputs": [
    {
     "name": "stderr",
     "output_type": "stream",
     "text": [
      "Downloading https://github.com/kimiyoung/planetoid/raw/master/data/ind.pubmed.x\n",
      "Downloading https://github.com/kimiyoung/planetoid/raw/master/data/ind.pubmed.tx\n",
      "Downloading https://github.com/kimiyoung/planetoid/raw/master/data/ind.pubmed.allx\n",
      "Downloading https://github.com/kimiyoung/planetoid/raw/master/data/ind.pubmed.y\n",
      "Downloading https://github.com/kimiyoung/planetoid/raw/master/data/ind.pubmed.ty\n",
      "Downloading https://github.com/kimiyoung/planetoid/raw/master/data/ind.pubmed.ally\n",
      "Downloading https://github.com/kimiyoung/planetoid/raw/master/data/ind.pubmed.graph\n",
      "Downloading https://github.com/kimiyoung/planetoid/raw/master/data/ind.pubmed.test.index\n",
      "Processing...\n",
      "Done!\n"
     ]
    }
   ],
   "source": [
    "data_dir = '/cluster/home/kamara/Explain/data'\n",
    "data = Planetoid(data_dir, \"PubMed\")"
   ]
  },
  {
   "cell_type": "code",
   "execution_count": 15,
   "id": "e1b8db88",
   "metadata": {},
   "outputs": [],
   "source": [
    "data_filename = '/cluster/home/kamara/Explain/data/PubMed/processed/data.pt'\n",
    "data, _ = torch.load(data_filename)"
   ]
  },
  {
   "cell_type": "code",
   "execution_count": 16,
   "id": "0c9272ad",
   "metadata": {},
   "outputs": [
    {
     "data": {
      "text/plain": [
       "Data(x=[19717, 500], edge_index=[2, 88648], y=[19717], train_mask=[19717], val_mask=[19717], test_mask=[19717])"
      ]
     },
     "execution_count": 16,
     "metadata": {},
     "output_type": "execute_result"
    }
   ],
   "source": [
    "data"
   ]
  },
  {
   "cell_type": "code",
   "execution_count": 11,
   "id": "2249fa43",
   "metadata": {},
   "outputs": [
    {
     "data": {
      "text/plain": [
       "500"
      ]
     },
     "execution_count": 11,
     "metadata": {},
     "output_type": "execute_result"
    }
   ],
   "source": [
    "len(data.val_mask[data.val_mask==True])"
   ]
  },
  {
   "cell_type": "code",
   "execution_count": 24,
   "id": "6a7bea8b",
   "metadata": {},
   "outputs": [],
   "source": [
    "import networkx as nx\n",
    "import numpy as np\n",
    "import torch\n",
    "from sklearn.model_selection import train_test_split\n",
    "from torch_geometric.utils import from_networkx\n",
    "\n",
    "def split_data(data):\n",
    "    n = data.num_nodes\n",
    "    data.train_mask, data.val_mask, data.test_mask = (\n",
    "        torch.zeros(n, dtype=torch.bool),\n",
    "        torch.zeros(n, dtype=torch.bool),\n",
    "        torch.zeros(n, dtype=torch.bool),\n",
    "    )\n",
    "    train_ids, test_ids = train_test_split(\n",
    "        range(n), test_size=0.15, random_state=10, shuffle=True\n",
    "    )\n",
    "    train_ids, val_ids = train_test_split(train_ids, test_size=0.1, random_state=10, shuffle=True)\n",
    "\n",
    "    data.train_mask[train_ids] = 1\n",
    "    data.val_mask[val_ids] = 1\n",
    "    data.test_mask[test_ids] = 1\n",
    "\n",
    "    return data"
   ]
  },
  {
   "cell_type": "code",
   "execution_count": 25,
   "id": "7b07b343",
   "metadata": {},
   "outputs": [
    {
     "data": {
      "text/plain": [
       "1676"
      ]
     },
     "execution_count": 25,
     "metadata": {},
     "output_type": "execute_result"
    }
   ],
   "source": [
    "data2 = split_data(data)\n",
    "len(data2.val_mask[data2.val_mask==True])"
   ]
  },
  {
   "cell_type": "code",
   "execution_count": 19,
   "id": "8a821353",
   "metadata": {},
   "outputs": [
    {
     "name": "stderr",
     "output_type": "stream",
     "text": [
      "Computing METIS partitioning...\n",
      "Done!\n",
      "/cluster/apps/nss/gcc-8.2.0/python/3.8.5/x86_64/lib64/python3.8/site-packages/torch/utils/data/dataloader.py:478: UserWarning: This DataLoader will create 12 worker processes in total. Our suggested max number of worker in current system is 2, which is smaller than what this DataLoader is going to create. Please be aware that excessive worker creation might get DataLoader running slow or even freeze, lower the worker number to avoid potential slowness/freeze if necessary.\n",
      "  warnings.warn(_create_warning_msg(\n"
     ]
    },
    {
     "data": {
      "image/png": "[encoded data removed]",
      "text/plain": [
       "<Figure size 432x288 with 1 Axes>"
      ]
     },
     "metadata": {},
     "output_type": "display_data"
    },
    {
     "data": {
      "text/plain": [
       "<Figure size 432x288 with 0 Axes>"
      ]
     },
     "metadata": {},
     "output_type": "display_data"
    }
   ],
   "source": [
    "if len(data.train_mask) > 1000:\n",
    "    cluster_data = ClusterData(data, num_parts=data.x.size(0) // 100, recursive=False)\n",
    "    data_loader = ClusterLoader(cluster_data, batch_size=1, shuffle=True, num_workers=12)\n",
    "    batch = next(iter(data_loader))\n",
    "    g = to_networkx(batch)\n",
    "    plt.figure()\n",
    "    nx.draw(g, with_labels=True)\n",
    "    plt.show()\n",
    "    plt.clf()"
   ]
  },
  {
   "cell_type": "code",
   "execution_count": 20,
   "id": "ad55980b",
   "metadata": {},
   "outputs": [
    {
     "data": {
      "image/png": "[encoded data removed]",
      "text/plain": [
       "<Figure size 432x288 with 1 Axes>"
      ]
     },
     "metadata": {},
     "output_type": "display_data"
    },
    {
     "data": {
      "text/plain": [
       "<Figure size 432x288 with 0 Axes>"
      ]
     },
     "metadata": {},
     "output_type": "display_data"
    }
   ],
   "source": [
    "batch = next(iter(data_loader))\n",
    "g = to_networkx(batch)\n",
    "plt.figure()\n",
    "nx.draw(g, with_labels=True)\n",
    "plt.show()\n",
    "plt.clf()"
   ]
  },
  {
   "cell_type": "markdown",
   "id": "df188dc7",
   "metadata": {},
   "source": [
    "## Wikipedia Chameleon"
   ]
  },
  {
   "cell_type": "code",
   "execution_count": 7,
   "id": "11974570",
   "metadata": {},
   "outputs": [
    {
     "name": "stderr",
     "output_type": "stream",
     "text": [
      "Downloading https://raw.githubusercontent.com/graphdml-uiuc-jlu/geom-gcn/f1fc0d14b3b019c562737240d06ec83b07d16a8f/new_data/squirrel/out1_node_feature_label.txt\n",
      "Downloading https://raw.githubusercontent.com/graphdml-uiuc-jlu/geom-gcn/f1fc0d14b3b019c562737240d06ec83b07d16a8f/new_data/squirrel/out1_graph_edges.txt\n",
      "Downloading https://raw.githubusercontent.com/graphdml-uiuc-jlu/geom-gcn/f1fc0d14b3b019c562737240d06ec83b07d16a8f/splits/squirrel_split_0.6_0.2_0.npz\n",
      "Downloading https://raw.githubusercontent.com/graphdml-uiuc-jlu/geom-gcn/f1fc0d14b3b019c562737240d06ec83b07d16a8f/splits/squirrel_split_0.6_0.2_1.npz\n",
      "Downloading https://raw.githubusercontent.com/graphdml-uiuc-jlu/geom-gcn/f1fc0d14b3b019c562737240d06ec83b07d16a8f/splits/squirrel_split_0.6_0.2_2.npz\n",
      "Downloading https://raw.githubusercontent.com/graphdml-uiuc-jlu/geom-gcn/f1fc0d14b3b019c562737240d06ec83b07d16a8f/splits/squirrel_split_0.6_0.2_3.npz\n",
      "Downloading https://raw.githubusercontent.com/graphdml-uiuc-jlu/geom-gcn/f1fc0d14b3b019c562737240d06ec83b07d16a8f/splits/squirrel_split_0.6_0.2_4.npz\n",
      "Downloading https://raw.githubusercontent.com/graphdml-uiuc-jlu/geom-gcn/f1fc0d14b3b019c562737240d06ec83b07d16a8f/splits/squirrel_split_0.6_0.2_5.npz\n",
      "Downloading https://raw.githubusercontent.com/graphdml-uiuc-jlu/geom-gcn/f1fc0d14b3b019c562737240d06ec83b07d16a8f/splits/squirrel_split_0.6_0.2_6.npz\n",
      "Downloading https://raw.githubusercontent.com/graphdml-uiuc-jlu/geom-gcn/f1fc0d14b3b019c562737240d06ec83b07d16a8f/splits/squirrel_split_0.6_0.2_7.npz\n",
      "Downloading https://raw.githubusercontent.com/graphdml-uiuc-jlu/geom-gcn/f1fc0d14b3b019c562737240d06ec83b07d16a8f/splits/squirrel_split_0.6_0.2_8.npz\n",
      "Downloading https://raw.githubusercontent.com/graphdml-uiuc-jlu/geom-gcn/f1fc0d14b3b019c562737240d06ec83b07d16a8f/splits/squirrel_split_0.6_0.2_9.npz\n",
      "Processing...\n",
      "Done!\n"
     ]
    }
   ],
   "source": [
    "data_dir = '/cluster/home/kamara/Explain/data'\n",
    "data = WikipediaNetwork(data_dir, \"squirrel\")"
   ]
  },
  {
   "cell_type": "code",
   "execution_count": 10,
   "id": "3967d9d7",
   "metadata": {},
   "outputs": [],
   "source": [
    "data_filename = '/cluster/home/kamara/Explain/data/squirrel/geom_gcn/processed/data.pt'\n",
    "data, _ = torch.load(data_filename)"
   ]
  },
  {
   "cell_type": "code",
   "execution_count": 11,
   "id": "475a4185",
   "metadata": {},
   "outputs": [
    {
     "data": {
      "text/plain": [
       "Data(x=[5201, 2089], edge_index=[2, 217073], y=[5201], train_mask=[5201, 10], val_mask=[5201, 10], test_mask=[5201, 10])"
      ]
     },
     "execution_count": 11,
     "metadata": {},
     "output_type": "execute_result"
    }
   ],
   "source": [
    "data"
   ]
  },
  {
   "cell_type": "markdown",
   "id": "6dbc8309",
   "metadata": {},
   "source": [
    "## Actor"
   ]
  },
  {
   "cell_type": "code",
   "execution_count": 25,
   "id": "0bcc0859",
   "metadata": {},
   "outputs": [
    {
     "name": "stderr",
     "output_type": "stream",
     "text": [
      "Downloading https://raw.githubusercontent.com/graphdml-uiuc-jlu/geom-gcn/master/new_data/film/out1_node_feature_label.txt\n",
      "Downloading https://raw.githubusercontent.com/graphdml-uiuc-jlu/geom-gcn/master/new_data/film/out1_graph_edges.txt\n",
      "Downloading https://raw.githubusercontent.com/graphdml-uiuc-jlu/geom-gcn/master/splits/film_split_0.6_0.2_0.npz\n",
      "Downloading https://raw.githubusercontent.com/graphdml-uiuc-jlu/geom-gcn/master/splits/film_split_0.6_0.2_1.npz\n",
      "Downloading https://raw.githubusercontent.com/graphdml-uiuc-jlu/geom-gcn/master/splits/film_split_0.6_0.2_2.npz\n",
      "Downloading https://raw.githubusercontent.com/graphdml-uiuc-jlu/geom-gcn/master/splits/film_split_0.6_0.2_3.npz\n",
      "Downloading https://raw.githubusercontent.com/graphdml-uiuc-jlu/geom-gcn/master/splits/film_split_0.6_0.2_4.npz\n",
      "Downloading https://raw.githubusercontent.com/graphdml-uiuc-jlu/geom-gcn/master/splits/film_split_0.6_0.2_5.npz\n",
      "Downloading https://raw.githubusercontent.com/graphdml-uiuc-jlu/geom-gcn/master/splits/film_split_0.6_0.2_6.npz\n",
      "Downloading https://raw.githubusercontent.com/graphdml-uiuc-jlu/geom-gcn/master/splits/film_split_0.6_0.2_7.npz\n",
      "Downloading https://raw.githubusercontent.com/graphdml-uiuc-jlu/geom-gcn/master/splits/film_split_0.6_0.2_8.npz\n",
      "Downloading https://raw.githubusercontent.com/graphdml-uiuc-jlu/geom-gcn/master/splits/film_split_0.6_0.2_9.npz\n",
      "Processing...\n",
      "Done!\n"
     ]
    }
   ],
   "source": [
    "data_dir = '/cluster/home/kamara/Explain/data/actor'\n",
    "data = Actor(data_dir)"
   ]
  },
  {
   "cell_type": "code",
   "execution_count": 26,
   "id": "95f2d703",
   "metadata": {},
   "outputs": [],
   "source": [
    "data_filename = '/cluster/home/kamara/Explain/data/actor/processed/data.pt'\n",
    "data, _ = torch.load(data_filename)"
   ]
  },
  {
   "cell_type": "code",
   "execution_count": 27,
   "id": "393c2fa1",
   "metadata": {},
   "outputs": [
    {
     "data": {
      "text/plain": [
       "Data(x=[7600, 932], edge_index=[2, 30019], y=[7600], train_mask=[7600, 10], val_mask=[7600, 10], test_mask=[7600, 10])"
      ]
     },
     "execution_count": 27,
     "metadata": {},
     "output_type": "execute_result"
    }
   ],
   "source": [
    "data"
   ]
  },
  {
   "cell_type": "markdown",
   "id": "c7277f3e",
   "metadata": {},
   "source": [
    "## WebKB"
   ]
  },
  {
   "cell_type": "code",
   "execution_count": 33,
   "id": "38c1e85c",
   "metadata": {},
   "outputs": [
    {
     "name": "stderr",
     "output_type": "stream",
     "text": [
      "Downloading https://raw.githubusercontent.com/graphdml-uiuc-jlu/geom-gcn/master/new_data/texas/out1_node_feature_label.txt\n",
      "Downloading https://raw.githubusercontent.com/graphdml-uiuc-jlu/geom-gcn/master/new_data/texas/out1_graph_edges.txt\n",
      "Downloading https://raw.githubusercontent.com/graphdml-uiuc-jlu/geom-gcn/master/splits/texas_split_0.6_0.2_0.npz\n",
      "Downloading https://raw.githubusercontent.com/graphdml-uiuc-jlu/geom-gcn/master/splits/texas_split_0.6_0.2_1.npz\n",
      "Downloading https://raw.githubusercontent.com/graphdml-uiuc-jlu/geom-gcn/master/splits/texas_split_0.6_0.2_2.npz\n",
      "Downloading https://raw.githubusercontent.com/graphdml-uiuc-jlu/geom-gcn/master/splits/texas_split_0.6_0.2_3.npz\n",
      "Downloading https://raw.githubusercontent.com/graphdml-uiuc-jlu/geom-gcn/master/splits/texas_split_0.6_0.2_4.npz\n",
      "Downloading https://raw.githubusercontent.com/graphdml-uiuc-jlu/geom-gcn/master/splits/texas_split_0.6_0.2_5.npz\n",
      "Downloading https://raw.githubusercontent.com/graphdml-uiuc-jlu/geom-gcn/master/splits/texas_split_0.6_0.2_6.npz\n",
      "Downloading https://raw.githubusercontent.com/graphdml-uiuc-jlu/geom-gcn/master/splits/texas_split_0.6_0.2_7.npz\n",
      "Downloading https://raw.githubusercontent.com/graphdml-uiuc-jlu/geom-gcn/master/splits/texas_split_0.6_0.2_8.npz\n",
      "Downloading https://raw.githubusercontent.com/graphdml-uiuc-jlu/geom-gcn/master/splits/texas_split_0.6_0.2_9.npz\n",
      "Processing...\n",
      "Done!\n"
     ]
    }
   ],
   "source": [
    "data_dir = '/cluster/home/kamara/Explain/data'\n",
    "data = WebKB(data_dir, \"Texas\")"
   ]
  },
  {
   "cell_type": "code",
   "execution_count": 34,
   "id": "21cbcf19",
   "metadata": {},
   "outputs": [],
   "source": [
    "data_filename = '/cluster/home/kamara/Explain/data/cornell/processed/data.pt'\n",
    "data, _ = torch.load(data_filename)"
   ]
  },
  {
   "cell_type": "code",
   "execution_count": 35,
   "id": "9b0d55b4",
   "metadata": {},
   "outputs": [
    {
     "data": {
      "text/plain": [
       "Data(x=[183, 1703], edge_index=[2, 298], y=[183], train_mask=[183, 10], val_mask=[183, 10], test_mask=[183, 10])"
      ]
     },
     "execution_count": 35,
     "metadata": {},
     "output_type": "execute_result"
    }
   ],
   "source": [
    "data"
   ]
  },
  {
   "cell_type": "code",
   "execution_count": 36,
   "id": "b9e4ae79",
   "metadata": {},
   "outputs": [
    {
     "data": {
      "text/plain": [
       "4"
      ]
     },
     "execution_count": 36,
     "metadata": {},
     "output_type": "execute_result"
    }
   ],
   "source": [
    "data.y.max().item()"
   ]
  },
  {
   "cell_type": "code",
   "execution_count": 37,
   "id": "39584921",
   "metadata": {},
   "outputs": [
    {
     "data": {
      "text/plain": [
       "tensor([[False,  True, False,  ...,  True,  True,  True],\n",
       "        [False,  True,  True,  ..., False,  True, False],\n",
       "        [ True, False,  True,  ...,  True, False, False],\n",
       "        ...,\n",
       "        [False, False, False,  ..., False,  True,  True],\n",
       "        [ True,  True,  True,  ..., False, False,  True],\n",
       "        [ True, False,  True,  ...,  True, False,  True]])"
      ]
     },
     "execution_count": 37,
     "metadata": {},
     "output_type": "execute_result"
    }
   ],
   "source": [
    "data.train_mask"
   ]
  },
  {
   "cell_type": "code",
   "execution_count": 44,
   "id": "823fa243",
   "metadata": {},
   "outputs": [
    {
     "data": {
      "text/plain": [
       "1"
      ]
     },
     "execution_count": 44,
     "metadata": {},
     "output_type": "execute_result"
    }
   ],
   "source": [
    "mask = data.train_mask[:,0]\n",
    "mask.dim()"
   ]
  },
  {
   "cell_type": "code",
   "execution_count": null,
   "id": "3efce484",
   "metadata": {},
   "outputs": [],
   "source": []
  }
 ],
 "metadata": {
  "kernelspec": {
   "display_name": "Python 3 (ipykernel)",
   "language": "python",
   "name": "python3"
  },
  "language_info": {
   "codemirror_mode": {
    "name": "ipython",
    "version": 3
   },
   "file_extension": ".py",
   "mimetype": "text/x-python",
   "name": "python",
   "nbconvert_exporter": "python",
   "pygments_lexer": "ipython3",
   "version": "3.8.5"
  }
 },
 "nbformat": 4,
 "nbformat_minor": 5
}
