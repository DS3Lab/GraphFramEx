{
 "cells": [
  {
   "cell_type": "code",
   "execution_count": 2,
   "id": "021a7eca",
   "metadata": {},
   "outputs": [],
   "source": [
    "import os\n",
    "import re"
   ]
  },
  {
   "cell_type": "code",
   "execution_count": 1,
   "id": "a5839cee",
   "metadata": {},
   "outputs": [],
   "source": [
    "import networkx as nx\n",
    "import numpy as np\n",
    "import math\n",
    "import matplotlib.pyplot as plt\n",
    "import pandas as pd\n",
    "import time\n",
    "\n",
    "import torch"
   ]
  },
  {
   "cell_type": "code",
   "execution_count": 13,
   "id": "3ce1c01e",
   "metadata": {},
   "outputs": [],
   "source": [
    "from torch_geometric.utils import dense_to_sparse\n",
    "from torch_geometric.data import Data, InMemoryDataset, download_url"
   ]
  },
  {
   "cell_type": "code",
   "execution_count": null,
   "id": "2fcbe705",
   "metadata": {},
   "outputs": [],
   "source": [
    "FILES = ['MUTAG_A.txt', 'MUTAG_graph_labels.txt', 'MUTAG_graph_indicator.txt',\n",
    "                    'MUTAG_node_labels.txt', 'README.txt']"
   ]
  },
  {
   "cell_type": "code",
   "execution_count": 25,
   "id": "2f9a55f4",
   "metadata": {},
   "outputs": [],
   "source": [
    "data_name = 'mutag'\n",
    "\n",
    "data_save_dir = os.path.join('data', data_name)\n",
    "\n",
    "#echeck_dir(data_save_dir)\n",
    "raw_data_dir = os.path.join(data_save_dir, 'raw_data')\n",
    "\n",
    "# Save data_list\n",
    "data_filename = os.path.join(data_save_dir, data_name) + '.pt'\n"
   ]
  },
  {
   "cell_type": "code",
   "execution_count": 27,
   "id": "a3c92eb8",
   "metadata": {},
   "outputs": [
    {
     "data": {
      "text/plain": [
       "'data/mutag/raw_data'"
      ]
     },
     "execution_count": 27,
     "metadata": {},
     "output_type": "execute_result"
    }
   ],
   "source": [
    "raw_data_dir"
   ]
  },
  {
   "cell_type": "code",
   "execution_count": 28,
   "id": "983890e4",
   "metadata": {},
   "outputs": [],
   "source": [
    "import os.path as osp\n",
    "import zipfile\n",
    "import gzip\n",
    "\n",
    "\n",
    "\n",
    "def maybe_log(path, log=True):\n",
    "    if log:\n",
    "        print('Extracting', path)\n",
    "        \n",
    "def extract_gz(path, folder, log=True):\n",
    "    maybe_log(path, log)\n",
    "    with gzip.open(path, 'r') as r:\n",
    "        with open(osp.join(folder, '.'.join(os.path.basename(path).split('.')[:-1])), 'wb') as w:\n",
    "            w.write(r.read())\n",
    "\n",
    "\n",
    "def extract_zip(path, folder, log=True):\n",
    "    r\"\"\"Extracts a zip archive to a specific folder.\n",
    "    Args:\n",
    "        path (string): The path to the tar archive.\n",
    "        folder (string): The folder.\n",
    "        log (bool, optional): If :obj:`False`, will not print anything to the\n",
    "            console. (default: :obj:`True`)\n",
    "    \"\"\"\n",
    "    maybe_log(path, log)\n",
    "    with zipfile.ZipFile(path, 'r') as f:\n",
    "        f.extractall(folder)\n",
    "\n"
   ]
  },
  {
   "cell_type": "code",
   "execution_count": 29,
   "id": "722f3fa0",
   "metadata": {},
   "outputs": [
    {
     "name": "stderr",
     "output_type": "stream",
     "text": [
      "Downloading https://github.com/divelab/DIG_storage/raw/main/xgraph/datasets/MUTAG.zip\n"
     ]
    },
    {
     "name": "stdout",
     "output_type": "stream",
     "text": [
      "Extracting data/mutag/raw_data/MUTAG.zip\n"
     ]
    }
   ],
   "source": [
    "#download MUTAG from url and put it in raw_dir\n",
    "url = 'https://github.com/divelab/DIG_storage/raw/main/xgraph/datasets/MUTAG.zip'\n",
    "\n",
    "path = download_url(url, raw_data_dir)\n",
    "if url[-2:] == 'gz':\n",
    "    extract_gz(path, raw_data_dir)\n",
    "    os.unlink(path)\n",
    "elif url[-3:] == 'zip':\n",
    "    extract_zip(path, raw_data_dir)\n",
    "    os.unlink(path)"
   ]
  },
  {
   "cell_type": "code",
   "execution_count": 30,
   "id": "baa24351",
   "metadata": {},
   "outputs": [],
   "source": [
    "with open(os.path.join(raw_data_dir, 'MUTAG_node_labels.txt'), 'r') as f:\n",
    "    nodes_all_temp = f.read().splitlines()\n",
    "    nodes_all = [int(i) for i in nodes_all_temp]\n",
    "\n",
    "adj_all = np.zeros((len(nodes_all), len(nodes_all)))\n",
    "with open(os.path.join(raw_data_dir, 'MUTAG_A.txt'), 'r') as f:\n",
    "    adj_list = f.read().splitlines()\n",
    "for item in adj_list:\n",
    "    lr = item.split(', ')\n",
    "    l = int(lr[0])\n",
    "    r = int(lr[1])\n",
    "    adj_all[l - 1, r - 1] = 1\n",
    "\n",
    "with open(os.path.join(raw_data_dir, 'MUTAG_graph_indicator.txt'), 'r') as f:\n",
    "    graph_indicator_temp = f.read().splitlines()\n",
    "    graph_indicator = [int(i) for i in graph_indicator_temp]\n",
    "    graph_indicator = np.array(graph_indicator)\n",
    "\n",
    "with open(os.path.join(raw_data_dir, 'MUTAG_graph_labels.txt'), 'r') as f:\n",
    "    graph_labels_temp = f.read().splitlines()\n",
    "    graph_labels = [int(i) for i in graph_labels_temp]\n",
    "\n",
    "data_list = []\n",
    "for i in range(1, 189):\n",
    "    idx = np.where(graph_indicator == i)\n",
    "    graph_len = len(idx[0])\n",
    "    adj = adj_all[idx[0][0]:idx[0][0] + graph_len, idx[0][0]:idx[0][0] + graph_len]\n",
    "    label = int(graph_labels[i - 1] == 1)\n",
    "    feature = nodes_all[idx[0][0]:idx[0][0] + graph_len]\n",
    "    nb_clss = 7\n",
    "    targets = np.array(feature).reshape(-1)\n",
    "    one_hot_feature = np.eye(nb_clss)[targets]\n",
    "    data_example = Data(x=torch.from_numpy(one_hot_feature).float(),\n",
    "                        edge_index=dense_to_sparse(torch.from_numpy(adj))[0],\n",
    "                        y=label)\n",
    "    data_list.append(data_example)"
   ]
  },
  {
   "cell_type": "code",
   "execution_count": 31,
   "id": "5c42f1b4",
   "metadata": {},
   "outputs": [
    {
     "data": {
      "text/plain": [
       "188"
      ]
     },
     "execution_count": 31,
     "metadata": {},
     "output_type": "execute_result"
    }
   ],
   "source": [
    "len(data_list)"
   ]
  },
  {
   "cell_type": "code",
   "execution_count": 41,
   "id": "91e0c93b",
   "metadata": {},
   "outputs": [],
   "source": [
    "from typing import Optional, Callable, List, Union, Tuple, Dict, Iterable\n",
    "\n",
    "import copy\n",
    "from collections.abc import Mapping\n",
    "\n",
    "import torch\n",
    "from torch import Tensor\n",
    "\n",
    "from torch_geometric.data import Data\n",
    "from torch_geometric.data.collate import collate\n",
    "\n",
    "def collate_data(data_list: List[Data]) -> Tuple[Data, Optional[Dict[str, Tensor]]]:\n",
    "    r\"\"\"Collates a Python list of :obj:`torch_geometric.data.Data` objects\n",
    "    to the internal storage format of\n",
    "    :class:`~torch_geometric.data.InMemoryDataset`.\"\"\"\n",
    "    if len(data_list) == 1:\n",
    "        return data_list[0], None\n",
    "\n",
    "    data, slices, _ = collate(\n",
    "        data_list[0].__class__,\n",
    "        data_list=data_list,\n",
    "        increment=False,\n",
    "        add_batch=False,\n",
    "    )\n",
    "\n",
    "    return data, slices"
   ]
  },
  {
   "cell_type": "code",
   "execution_count": 42,
   "id": "e318db47",
   "metadata": {},
   "outputs": [],
   "source": [
    "torch.save(collate_data(data_list), data_filename)"
   ]
  },
  {
   "cell_type": "code",
   "execution_count": null,
   "id": "fdec9c36",
   "metadata": {},
   "outputs": [],
   "source": []
  }
 ],
 "metadata": {
  "kernelspec": {
   "display_name": "Python 3 (ipykernel)",
   "language": "python",
   "name": "python3"
  },
  "language_info": {
   "codemirror_mode": {
    "name": "ipython",
    "version": 3
   },
   "file_extension": ".py",
   "mimetype": "text/x-python",
   "name": "python",
   "nbconvert_exporter": "python",
   "pygments_lexer": "ipython3",
   "version": "3.8.12"
  }
 },
 "nbformat": 4,
 "nbformat_minor": 5
}