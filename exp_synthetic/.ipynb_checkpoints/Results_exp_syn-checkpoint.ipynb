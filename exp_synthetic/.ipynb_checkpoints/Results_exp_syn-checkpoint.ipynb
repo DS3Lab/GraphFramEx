{
 "cells": [
  {
   "cell_type": "code",
   "execution_count": 18,
   "metadata": {},
   "outputs": [],
   "source": [
    "import matplotlib.pyplot as plt\n",
    "import numpy as np\n",
    "import torch\n",
    "import seaborn as sns\n",
    "from matplotlib import axes\n",
    "import pandas as pd\n",
    "import os\n",
    "from os.path import join\n",
    "import json"
   ]
  },
  {
   "cell_type": "code",
   "execution_count": 53,
   "metadata": {},
   "outputs": [
    {
     "data": {
      "text/plain": [
       "'/cluster/home/kamara/Explain/exp_synthetic'"
      ]
     },
     "execution_count": 53,
     "metadata": {},
     "output_type": "execute_result"
    }
   ],
   "source": [
    "\n",
    "import sys, os\n",
    "sys.path.append('/cluster/home/kamara/Explain')\n",
    "from clutils.nbutils import *\n",
    "os.getcwd()"
   ]
  },
  {
   "cell_type": "code",
   "execution_count": 54,
   "metadata": {},
   "outputs": [],
   "source": [
    "expe = 'syn1'\n",
    "\n",
    "res_dir = '/cluster/home/kamara/Explain/checkpoints/syn1/logs'\n",
    "filename = '/cluster/home/kamara/Explain/checkpoints/syn1/logs/_explainer_name=distance.stdout'"
   ]
  },
  {
   "cell_type": "code",
   "execution_count": 139,
   "metadata": {},
   "outputs": [],
   "source": [
    "def parseLogs(logfile, kw=\"rawlogs:\"):\n",
    "    logs = {}\n",
    "    dicts = []\n",
    "    with open(logfile) as f:\n",
    "        for i_line, line in enumerate(f):\n",
    "            pos = line.find(kw)\n",
    "            if pos >= 0:\n",
    "                pos += len(kw)\n",
    "                pos_tensor = line.find(\"tensor(\")\n",
    "                while pos_tensor >= 0:\n",
    "                    comma_end = line.find(\",\", pos_tensor)\n",
    "                    tensor_end = line.find(\")\", pos_tensor)\n",
    "                    line_new = line[:pos_tensor] + line[pos_tensor + len(\"tensor(\"):comma_end] + line[tensor_end+1:]\n",
    "                    print(\"LINE\", line)\n",
    "                    print(\"NEW\", line_new)\n",
    "                    if len(line_new) >= len(line):\n",
    "                        print(\"No line reduction\")\n",
    "                        break\n",
    "                    line = line_new\n",
    "                    pos_tensor = line.find(\"tensor(\")\n",
    "                    \n",
    "                #print('line[pos:]', line[pos:])\n",
    "                #print(ast.literal_eval(line[pos:]))\n",
    "                kline = line[pos:].replace(\"'\", \"\")\n",
    "\n",
    "                try:\n",
    "                    dic = ast.literal_eval(line[pos:])\n",
    "                except:\n",
    "                    # print(\"Encountering weird patterns in logs\")\n",
    "                    # print(\"Line number %d\" % i_line)\n",
    "                    # print(line)\n",
    "                    line = line.replace(\"nan,\", \"-1e8,\")\n",
    "                    line = line.replace(\"NaN\", \"-1e8\")\n",
    "                    try:\n",
    "                        dic = ast.literal_eval(line[pos:])\n",
    "                    except:\n",
    "                        print(\"Unable to replace NaNs\")\n",
    "                        print(line)\n",
    "                        continue\n",
    "                print(line[pos:])\n",
    "                dic = dict(line[pos:])\n",
    "                for k in dic.keys():\n",
    "                    if k not in logs:\n",
    "                        logs[k] = []\n",
    "                    logs[k].append(dic[k])\n",
    "                dicts.append(dic)\n",
    "\n",
    "    df = pd.DataFrame(dicts)\n",
    "\n",
    "    return logs, df\n"
   ]
  },
  {
   "cell_type": "code",
   "execution_count": 140,
   "metadata": {},
   "outputs": [],
   "source": [
    "def get_info(logdir):\n",
    "    accuracy, fidelity = {}, {}\n",
    "    for filename in os.listdir(logdir):\n",
    "        if filename.endswith(\".stdout\") and filename.startswith(\"_\"):\n",
    "            print()\n",
    "            _, accuracy[filename.replace(\".stdout\", \"\")] = parseLogs(join(logdir, filename), kw='__accuracy:')\n",
    "            _, fidelity[filename.replace(\".stdout\", \"\")] = parseLogs(join(logdir, filename), kw='__fidelity:')             \n",
    "    return(accuracy, fidelity)\n",
    "\n",
    "def get_param_ranges(jsonpath, dataset = \"\"):\n",
    "    f = open(jsonpath,)\n",
    "    data = json.load(f)\n",
    "    ranges = data['params']\n",
    "    ranges['none'] = ''\n",
    "    return(ranges)   "
   ]
  },
  {
   "cell_type": "code",
   "execution_count": 141,
   "metadata": {},
   "outputs": [],
   "source": [
    "def get_df_results(logs, ranges, name, metrics, selection = 'last'):\n",
    "    dicts = []\n",
    "    for params_set in enumerateParams(ranges):\n",
    "        key = name.format(**params_set)\n",
    "        # if key in logs and len(logs[key]) >= 1 and metric in logs[key]:\n",
    "        any_metric = (key in logs) and (len(logs[key]) >= 1) and any([metric in logs[key] for metric in metrics])\n",
    "        if any_metric:\n",
    "            if selection == 'all':\n",
    "                for index, row in logs[key].iterrows():\n",
    "                    metrics_dict = {\n",
    "                        metric: select_value(row.to_frame().T, metric, 'last') if key in logs and len(logs[key]) >= 1 and metric in logs[key] else -1\n",
    "                        for metric in metrics\n",
    "                    }\n",
    "                    dicts.append(dictmerge(params_set, metrics_dict))\n",
    "                    \n",
    "            else:\n",
    "                metrics_dict = {\n",
    "                    metric: select_value(logs[key], metric, selection) if key in logs and len(logs[key]) >= 1 and metric in logs[key] else -1\n",
    "                    for metric in metrics\n",
    "                }\n",
    "                dicts.append(dictmerge(params_set, metrics_dict))\n",
    "\n",
    "    df = pd.DataFrame(dicts)\n",
    "    return df"
   ]
  },
  {
   "cell_type": "code",
   "execution_count": 142,
   "metadata": {},
   "outputs": [],
   "source": [
    "logdir = '/cluster/home/kamara/Explain/checkpoints/syn1/logs'\n",
    "jsonpath = '/cluster/home/kamara/Explain/config_file.json'"
   ]
  },
  {
   "cell_type": "code",
   "execution_count": 143,
   "metadata": {},
   "outputs": [
    {
     "name": "stdout",
     "output_type": "stream",
     "text": [
      "\n",
      "{\"recall\": 0.8799999999999999, \"precision\": 0.8816666666666666, \"f1_score\": 0.8806666666666666, \"ged\": 2.03, \"auc\": 0.9998877501220107}\n",
      "\n"
     ]
    },
    {
     "ename": "ValueError",
     "evalue": "dictionary update sequence element #0 has length 1; 2 is required",
     "output_type": "error",
     "traceback": [
      "\u001b[0;31m---------------------------------------------------------------------------\u001b[0m",
      "\u001b[0;31mValueError\u001b[0m                                Traceback (most recent call last)",
      "\u001b[0;32m<ipython-input-143-17dfbfc3f497>\u001b[0m in \u001b[0;36m<module>\u001b[0;34m\u001b[0m\n\u001b[0;32m----> 1\u001b[0;31m \u001b[0maccuracy\u001b[0m\u001b[0;34m,\u001b[0m \u001b[0mfidelity\u001b[0m \u001b[0;34m=\u001b[0m \u001b[0mget_info\u001b[0m\u001b[0;34m(\u001b[0m\u001b[0mlogdir\u001b[0m\u001b[0;34m)\u001b[0m\u001b[0;34m\u001b[0m\u001b[0;34m\u001b[0m\u001b[0m\n\u001b[0m\u001b[1;32m      2\u001b[0m \u001b[0mranges\u001b[0m \u001b[0;34m=\u001b[0m \u001b[0mget_param_ranges\u001b[0m\u001b[0;34m(\u001b[0m\u001b[0mjsonpath\u001b[0m\u001b[0;34m)\u001b[0m\u001b[0;34m\u001b[0m\u001b[0;34m\u001b[0m\u001b[0m\n\u001b[1;32m      3\u001b[0m \u001b[0mprint\u001b[0m\u001b[0;34m(\u001b[0m\u001b[0mlist\u001b[0m\u001b[0;34m(\u001b[0m\u001b[0mlogs\u001b[0m\u001b[0;34m.\u001b[0m\u001b[0mkeys\u001b[0m\u001b[0;34m(\u001b[0m\u001b[0;34m)\u001b[0m\u001b[0;34m)\u001b[0m\u001b[0;34m[\u001b[0m\u001b[0;36m1\u001b[0m\u001b[0;34m]\u001b[0m\u001b[0;34m)\u001b[0m\u001b[0;34m\u001b[0m\u001b[0;34m\u001b[0m\u001b[0m\n",
      "\u001b[0;32m<ipython-input-140-e5cd9c1170e5>\u001b[0m in \u001b[0;36mget_info\u001b[0;34m(logdir)\u001b[0m\n\u001b[1;32m      4\u001b[0m         \u001b[0;32mif\u001b[0m \u001b[0mfilename\u001b[0m\u001b[0;34m.\u001b[0m\u001b[0mendswith\u001b[0m\u001b[0;34m(\u001b[0m\u001b[0;34m\".stdout\"\u001b[0m\u001b[0;34m)\u001b[0m \u001b[0;32mand\u001b[0m \u001b[0mfilename\u001b[0m\u001b[0;34m.\u001b[0m\u001b[0mstartswith\u001b[0m\u001b[0;34m(\u001b[0m\u001b[0;34m\"_\"\u001b[0m\u001b[0;34m)\u001b[0m\u001b[0;34m:\u001b[0m\u001b[0;34m\u001b[0m\u001b[0;34m\u001b[0m\u001b[0m\n\u001b[1;32m      5\u001b[0m             \u001b[0mprint\u001b[0m\u001b[0;34m(\u001b[0m\u001b[0;34m)\u001b[0m\u001b[0;34m\u001b[0m\u001b[0;34m\u001b[0m\u001b[0m\n\u001b[0;32m----> 6\u001b[0;31m             \u001b[0m_\u001b[0m\u001b[0;34m,\u001b[0m \u001b[0maccuracy\u001b[0m\u001b[0;34m[\u001b[0m\u001b[0mfilename\u001b[0m\u001b[0;34m.\u001b[0m\u001b[0mreplace\u001b[0m\u001b[0;34m(\u001b[0m\u001b[0;34m\".stdout\"\u001b[0m\u001b[0;34m,\u001b[0m \u001b[0;34m\"\"\u001b[0m\u001b[0;34m)\u001b[0m\u001b[0;34m]\u001b[0m \u001b[0;34m=\u001b[0m \u001b[0mparseLogs\u001b[0m\u001b[0;34m(\u001b[0m\u001b[0mjoin\u001b[0m\u001b[0;34m(\u001b[0m\u001b[0mlogdir\u001b[0m\u001b[0;34m,\u001b[0m \u001b[0mfilename\u001b[0m\u001b[0;34m)\u001b[0m\u001b[0;34m,\u001b[0m \u001b[0mkw\u001b[0m\u001b[0;34m=\u001b[0m\u001b[0;34m'__accuracy:'\u001b[0m\u001b[0;34m)\u001b[0m\u001b[0;34m\u001b[0m\u001b[0;34m\u001b[0m\u001b[0m\n\u001b[0m\u001b[1;32m      7\u001b[0m             \u001b[0m_\u001b[0m\u001b[0;34m,\u001b[0m \u001b[0mfidelity\u001b[0m\u001b[0;34m[\u001b[0m\u001b[0mfilename\u001b[0m\u001b[0;34m.\u001b[0m\u001b[0mreplace\u001b[0m\u001b[0;34m(\u001b[0m\u001b[0;34m\".stdout\"\u001b[0m\u001b[0;34m,\u001b[0m \u001b[0;34m\"\"\u001b[0m\u001b[0;34m)\u001b[0m\u001b[0;34m]\u001b[0m \u001b[0;34m=\u001b[0m \u001b[0mparseLogs\u001b[0m\u001b[0;34m(\u001b[0m\u001b[0mjoin\u001b[0m\u001b[0;34m(\u001b[0m\u001b[0mlogdir\u001b[0m\u001b[0;34m,\u001b[0m \u001b[0mfilename\u001b[0m\u001b[0;34m)\u001b[0m\u001b[0;34m,\u001b[0m \u001b[0mkw\u001b[0m\u001b[0;34m=\u001b[0m\u001b[0;34m'__fidelity:'\u001b[0m\u001b[0;34m)\u001b[0m\u001b[0;34m\u001b[0m\u001b[0;34m\u001b[0m\u001b[0m\n\u001b[1;32m      8\u001b[0m     \u001b[0;32mreturn\u001b[0m\u001b[0;34m(\u001b[0m\u001b[0maccuracy\u001b[0m\u001b[0;34m,\u001b[0m \u001b[0mfidelity\u001b[0m\u001b[0;34m)\u001b[0m\u001b[0;34m\u001b[0m\u001b[0;34m\u001b[0m\u001b[0m\n",
      "\u001b[0;32m<ipython-input-139-593919df88df>\u001b[0m in \u001b[0;36mparseLogs\u001b[0;34m(logfile, kw)\u001b[0m\n\u001b[1;32m     38\u001b[0m                         continue\"\"\"\n\u001b[1;32m     39\u001b[0m                 \u001b[0mprint\u001b[0m\u001b[0;34m(\u001b[0m\u001b[0mline\u001b[0m\u001b[0;34m[\u001b[0m\u001b[0mpos\u001b[0m\u001b[0;34m:\u001b[0m\u001b[0;34m]\u001b[0m\u001b[0;34m)\u001b[0m\u001b[0;34m\u001b[0m\u001b[0;34m\u001b[0m\u001b[0m\n\u001b[0;32m---> 40\u001b[0;31m                 \u001b[0mdic\u001b[0m \u001b[0;34m=\u001b[0m \u001b[0mdict\u001b[0m\u001b[0;34m(\u001b[0m\u001b[0mline\u001b[0m\u001b[0;34m[\u001b[0m\u001b[0mpos\u001b[0m\u001b[0;34m:\u001b[0m\u001b[0;34m]\u001b[0m\u001b[0;34m)\u001b[0m\u001b[0;34m\u001b[0m\u001b[0;34m\u001b[0m\u001b[0m\n\u001b[0m\u001b[1;32m     41\u001b[0m                 \u001b[0;32mfor\u001b[0m \u001b[0mk\u001b[0m \u001b[0;32min\u001b[0m \u001b[0mdic\u001b[0m\u001b[0;34m.\u001b[0m\u001b[0mkeys\u001b[0m\u001b[0;34m(\u001b[0m\u001b[0;34m)\u001b[0m\u001b[0;34m:\u001b[0m\u001b[0;34m\u001b[0m\u001b[0;34m\u001b[0m\u001b[0m\n\u001b[1;32m     42\u001b[0m                     \u001b[0;32mif\u001b[0m \u001b[0mk\u001b[0m \u001b[0;32mnot\u001b[0m \u001b[0;32min\u001b[0m \u001b[0mlogs\u001b[0m\u001b[0;34m:\u001b[0m\u001b[0;34m\u001b[0m\u001b[0;34m\u001b[0m\u001b[0m\n",
      "\u001b[0;31mValueError\u001b[0m: dictionary update sequence element #0 has length 1; 2 is required"
     ]
    }
   ],
   "source": [
    "accuracy, fidelity = get_info(logdir)\n",
    "ranges = get_param_ranges(jsonpath)\n",
    "print(list(logs.keys())[1])"
   ]
  },
  {
   "cell_type": "code",
   "execution_count": 114,
   "metadata": {},
   "outputs": [
    {
     "data": {
      "text/plain": [
       "{'data_save_dir': 'data',\n",
       " 'num_test_nodes': 100,\n",
       " 'dataset': 'syn1',\n",
       " 'explainer_name': ['random',\n",
       "  'distance',\n",
       "  'pagerank',\n",
       "  'sa_node',\n",
       "  'ig_node',\n",
       "  'occlusion',\n",
       "  'gnnexplainer',\n",
       "  'pgmexplainer',\n",
       "  'subgraphx'],\n",
       " 'none': ''}"
      ]
     },
     "execution_count": 114,
     "metadata": {},
     "output_type": "execute_result"
    }
   ],
   "source": [
    "ranges"
   ]
  },
  {
   "cell_type": "code",
   "execution_count": 115,
   "metadata": {},
   "outputs": [],
   "source": [
    "name = '{none}_explainer_name={explainer_name}'"
   ]
  },
  {
   "cell_type": "code",
   "execution_count": 116,
   "metadata": {},
   "outputs": [
    {
     "data": {
      "text/html": [
       "<div>\n",
       "<style scoped>\n",
       "    .dataframe tbody tr th:only-of-type {\n",
       "        vertical-align: middle;\n",
       "    }\n",
       "\n",
       "    .dataframe tbody tr th {\n",
       "        vertical-align: top;\n",
       "    }\n",
       "\n",
       "    .dataframe thead th {\n",
       "        text-align: right;\n",
       "    }\n",
       "</style>\n",
       "<table border=\"1\" class=\"dataframe\">\n",
       "  <thead>\n",
       "    <tr style=\"text-align: right;\">\n",
       "      <th></th>\n",
       "      <th>none</th>\n",
       "      <th>explainer_name</th>\n",
       "      <th>dataset</th>\n",
       "      <th>num_test_nodes</th>\n",
       "      <th>data_save_dir</th>\n",
       "      <th>f1_score</th>\n",
       "      <th>recall</th>\n",
       "      <th>precision</th>\n",
       "      <th>ged</th>\n",
       "      <th>auc</th>\n",
       "    </tr>\n",
       "  </thead>\n",
       "  <tbody>\n",
       "    <tr>\n",
       "      <th>0</th>\n",
       "      <td></td>\n",
       "      <td>distance</td>\n",
       "      <td>syn1</td>\n",
       "      <td>100</td>\n",
       "      <td>data</td>\n",
       "      <td>0.706061</td>\n",
       "      <td>0.698333</td>\n",
       "      <td>0.715333</td>\n",
       "      <td>3.76</td>\n",
       "      <td>0.998365</td>\n",
       "    </tr>\n",
       "    <tr>\n",
       "      <th>1</th>\n",
       "      <td></td>\n",
       "      <td>pagerank</td>\n",
       "      <td>syn1</td>\n",
       "      <td>100</td>\n",
       "      <td>data</td>\n",
       "      <td>0.870000</td>\n",
       "      <td>0.870000</td>\n",
       "      <td>0.870000</td>\n",
       "      <td>2.34</td>\n",
       "      <td>0.999898</td>\n",
       "    </tr>\n",
       "    <tr>\n",
       "      <th>2</th>\n",
       "      <td></td>\n",
       "      <td>sa_node</td>\n",
       "      <td>syn1</td>\n",
       "      <td>100</td>\n",
       "      <td>data</td>\n",
       "      <td>0.548333</td>\n",
       "      <td>0.548333</td>\n",
       "      <td>0.548333</td>\n",
       "      <td>4.54</td>\n",
       "      <td>0.575673</td>\n",
       "    </tr>\n",
       "    <tr>\n",
       "      <th>3</th>\n",
       "      <td></td>\n",
       "      <td>ig_node</td>\n",
       "      <td>syn1</td>\n",
       "      <td>100</td>\n",
       "      <td>data</td>\n",
       "      <td>0.880667</td>\n",
       "      <td>0.880000</td>\n",
       "      <td>0.881667</td>\n",
       "      <td>2.03</td>\n",
       "      <td>0.999888</td>\n",
       "    </tr>\n",
       "    <tr>\n",
       "      <th>4</th>\n",
       "      <td></td>\n",
       "      <td>occlusion</td>\n",
       "      <td>syn1</td>\n",
       "      <td>100</td>\n",
       "      <td>data</td>\n",
       "      <td>0.173333</td>\n",
       "      <td>0.173333</td>\n",
       "      <td>0.173333</td>\n",
       "      <td>9.87</td>\n",
       "      <td>0.104953</td>\n",
       "    </tr>\n",
       "    <tr>\n",
       "      <th>5</th>\n",
       "      <td></td>\n",
       "      <td>gnnexplainer</td>\n",
       "      <td>syn1</td>\n",
       "      <td>100</td>\n",
       "      <td>data</td>\n",
       "      <td>0.342576</td>\n",
       "      <td>0.335000</td>\n",
       "      <td>0.351667</td>\n",
       "      <td>7.84</td>\n",
       "      <td>0.971442</td>\n",
       "    </tr>\n",
       "    <tr>\n",
       "      <th>6</th>\n",
       "      <td></td>\n",
       "      <td>pgmexplainer</td>\n",
       "      <td>syn1</td>\n",
       "      <td>100</td>\n",
       "      <td>data</td>\n",
       "      <td>0.505606</td>\n",
       "      <td>0.505000</td>\n",
       "      <td>0.506333</td>\n",
       "      <td>6.22</td>\n",
       "      <td>0.978783</td>\n",
       "    </tr>\n",
       "  </tbody>\n",
       "</table>\n",
       "</div>"
      ],
      "text/plain": [
       "  none explainer_name dataset  num_test_nodes data_save_dir  f1_score  \\\n",
       "0            distance    syn1             100          data  0.706061   \n",
       "1            pagerank    syn1             100          data  0.870000   \n",
       "2             sa_node    syn1             100          data  0.548333   \n",
       "3             ig_node    syn1             100          data  0.880667   \n",
       "4           occlusion    syn1             100          data  0.173333   \n",
       "5        gnnexplainer    syn1             100          data  0.342576   \n",
       "6        pgmexplainer    syn1             100          data  0.505606   \n",
       "\n",
       "     recall  precision   ged       auc  \n",
       "0  0.698333   0.715333  3.76  0.998365  \n",
       "1  0.870000   0.870000  2.34  0.999898  \n",
       "2  0.548333   0.548333  4.54  0.575673  \n",
       "3  0.880000   0.881667  2.03  0.999888  \n",
       "4  0.173333   0.173333  9.87  0.104953  \n",
       "5  0.335000   0.351667  7.84  0.971442  \n",
       "6  0.505000   0.506333  6.22  0.978783  "
      ]
     },
     "execution_count": 116,
     "metadata": {},
     "output_type": "execute_result"
    }
   ],
   "source": [
    "df_acc = get_df_results(accuracy, ranges, name, metrics = ['f1_score', 'recall', 'precision', 'ged', 'auc'])\n",
    "df_acc"
   ]
  },
  {
   "cell_type": "code",
   "execution_count": 117,
   "metadata": {},
   "outputs": [
    {
     "data": {
      "text/html": [
       "<div>\n",
       "<style scoped>\n",
       "    .dataframe tbody tr th:only-of-type {\n",
       "        vertical-align: middle;\n",
       "    }\n",
       "\n",
       "    .dataframe tbody tr th {\n",
       "        vertical-align: top;\n",
       "    }\n",
       "\n",
       "    .dataframe thead th {\n",
       "        text-align: right;\n",
       "    }\n",
       "</style>\n",
       "<table border=\"1\" class=\"dataframe\">\n",
       "  <thead>\n",
       "    <tr style=\"text-align: right;\">\n",
       "      <th></th>\n",
       "    </tr>\n",
       "  </thead>\n",
       "  <tbody>\n",
       "  </tbody>\n",
       "</table>\n",
       "</div>"
      ],
      "text/plain": [
       "Empty DataFrame\n",
       "Columns: []\n",
       "Index: []"
      ]
     },
     "execution_count": 117,
     "metadata": {},
     "output_type": "execute_result"
    }
   ],
   "source": [
    "df_fid = get_df_results(fidelity, ranges, name, metrics = ['fidelity_acc+', 'fidelity_acc-', 'fidelity_prob+', 'fidelity_prob-'])\n",
    "df_fid"
   ]
  },
  {
   "cell_type": "code",
   "execution_count": 118,
   "metadata": {},
   "outputs": [
    {
     "data": {
      "text/plain": [
       "{'_explainer_name=ig_node': Empty DataFrame\n",
       " Columns: []\n",
       " Index: [], '_explainer_name=distance': Empty DataFrame\n",
       " Columns: []\n",
       " Index: [], '_explainer_name=pagerank': Empty DataFrame\n",
       " Columns: []\n",
       " Index: [], '_explainer_name=sa_node': Empty DataFrame\n",
       " Columns: []\n",
       " Index: [], '_explainer_name=random': Empty DataFrame\n",
       " Columns: []\n",
       " Index: [], '_explainer_name=gnnexplainer': Empty DataFrame\n",
       " Columns: []\n",
       " Index: [], '_explainer_name=occlusion': Empty DataFrame\n",
       " Columns: []\n",
       " Index: [], '_explainer_name=pgmexplainer': Empty DataFrame\n",
       " Columns: []\n",
       " Index: [], '_explainer_name=subgraphx': Empty DataFrame\n",
       " Columns: []\n",
       " Index: []}"
      ]
     },
     "execution_count": 118,
     "metadata": {},
     "output_type": "execute_result"
    }
   ],
   "source": [
    "fidelity"
   ]
  },
  {
   "cell_type": "code",
   "execution_count": null,
   "metadata": {},
   "outputs": [],
   "source": []
  }
 ],
 "metadata": {
  "kernelspec": {
   "display_name": "Python 3",
   "language": "python",
   "name": "python3"
  },
  "language_info": {
   "codemirror_mode": {
    "name": "ipython",
    "version": 3
   },
   "file_extension": ".py",
   "mimetype": "text/x-python",
   "name": "python",
   "nbconvert_exporter": "python",
   "pygments_lexer": "ipython3",
   "version": "3.7.4"
  }
 },
 "nbformat": 4,
 "nbformat_minor": 2
}
